{
  "nbformat": 4,
  "nbformat_minor": 0,
  "metadata": {
    "colab": {
      "name": "SVR.ipynb",
      "provenance": [],
      "collapsed_sections": []
    },
    "kernelspec": {
      "name": "python3",
      "display_name": "Python 3"
    },
    "language_info": {
      "name": "python"
    }
  },
  "cells": [
    {
      "cell_type": "code",
      "metadata": {
        "id": "LaqqeY5HU7VC"
      },
      "source": [
        "import pandas as pd\n",
        "import sklearn as sk\n",
        "import matplotlib.pyplot as plt\n",
        "import numpy as np\n",
        "from sklearn import preprocessing\n",
        "import seaborn as sns\n",
        "\n",
        "from sklearn.neural_network import MLPRegressor\n",
        "from sklearn.datasets import make_regression\n",
        "from sklearn.model_selection import train_test_split"
      ],
      "execution_count": 1,
      "outputs": []
    },
    {
      "cell_type": "code",
      "metadata": {
        "id": "q9Ng-hoDPMrG"
      },
      "source": [
        "xlsx = pd.ExcelFile('Otw4_mgr.xlsx')\n",
        "df_train = pd.read_excel(xlsx, 'Arkusz2')\n",
        "df_test = pd.read_excel(xlsx, 'Arkusz1')"
      ],
      "execution_count": 2,
      "outputs": []
    },
    {
      "cell_type": "markdown",
      "metadata": {
        "id": "WM3tTAijqRIm"
      },
      "source": [
        "# Performing EDA on Train set and Test set "
      ]
    },
    {
      "cell_type": "code",
      "metadata": {
        "colab": {
          "base_uri": "https://localhost:8080/",
          "height": 364
        },
        "id": "ojGngQKrfSaj",
        "outputId": "0a1744c3-f7d1-4479-c34f-1a857c6c00d1"
      },
      "source": [
        "df_train.describe()"
      ],
      "execution_count": 3,
      "outputs": [
        {
          "output_type": "execute_result",
          "data": {
            "text/plain": [
              "           Vsand      Vlime     Vpiryt   Vkerogen        VCL        PHI  \\\n",
              "count  35.000000  35.000000  35.000000  35.000000  35.000000  35.000000   \n",
              "mean    0.055960   0.089611   0.004280   0.027840   0.815231   0.007077   \n",
              "std     0.072562   0.096960   0.006175   0.045081   0.053240   0.005668   \n",
              "min     0.000000   0.000000   0.000000   0.000100   0.669200   0.000000   \n",
              "25%     0.000200   0.000300   0.000400   0.000200   0.776500   0.003800   \n",
              "50%     0.000600   0.049700   0.000700   0.004700   0.806600   0.006600   \n",
              "75%     0.122000   0.180450   0.006100   0.020000   0.865850   0.008600   \n",
              "max     0.220500   0.315800   0.020900   0.122700   0.900200   0.026900   \n",
              "\n",
              "              CAL          DT        LLD        LL3     GG_Core         GR  \\\n",
              "count   35.000000   34.000000  35.000000  35.000000   35.000000   35.00000   \n",
              "mean   217.743169   83.744491  11.939871  12.351689  194.087751  181.39024   \n",
              "std      0.736027    8.475774  10.564558  10.693909   64.384158   51.96734   \n",
              "min    216.720400   74.640600   5.935900   5.419400  137.076700  129.46500   \n",
              "25%    217.091250   77.781225   6.496000   6.453200  153.226650  147.84340   \n",
              "50%    217.683100   80.453100   6.876600   6.750100  165.109300  154.99450   \n",
              "75%    218.259650   86.839875   9.450850  11.081150  192.224900  183.42645   \n",
              "max    219.026700  100.515600  47.636300  44.772700  330.530300  285.90200   \n",
              "\n",
              "         GRS_Core  NPHI_Core       POTA       THOR       URAN       RHOB  \\\n",
              "count   35.000000  35.000000  35.000000  35.000000  35.000000  35.000000   \n",
              "mean   145.743326   0.293788   4.519774  11.513640   4.393631   2.585526   \n",
              "std     22.431829   0.055278   0.278910   1.416542   3.536165   0.105450   \n",
              "min    111.315200   0.242666   3.979300   7.654300   1.094700   2.332000   \n",
              "25%    130.558750   0.258005   4.320650  10.706250   2.315150   2.553100   \n",
              "50%    140.038100   0.271260   4.508400  11.890600   2.796700   2.624300   \n",
              "75%    165.350250   0.292808   4.642250  12.524350   4.073700   2.657100   \n",
              "max    204.642900   0.417709   5.131300  14.298600  12.357300   2.697400   \n",
              "\n",
              "             TOC  \n",
              "count  35.000000  \n",
              "mean    2.297714  \n",
              "std     3.290360  \n",
              "min     0.100000  \n",
              "25%     0.180000  \n",
              "50%     0.560000  \n",
              "75%     2.920000  \n",
              "max    10.120000  "
            ],
            "text/html": [
              "\n",
              "  <div id=\"df-2d20ead6-2254-443a-8cde-31a5e50b0578\">\n",
              "    <div class=\"colab-df-container\">\n",
              "      <div>\n",
              "<style scoped>\n",
              "    .dataframe tbody tr th:only-of-type {\n",
              "        vertical-align: middle;\n",
              "    }\n",
              "\n",
              "    .dataframe tbody tr th {\n",
              "        vertical-align: top;\n",
              "    }\n",
              "\n",
              "    .dataframe thead th {\n",
              "        text-align: right;\n",
              "    }\n",
              "</style>\n",
              "<table border=\"1\" class=\"dataframe\">\n",
              "  <thead>\n",
              "    <tr style=\"text-align: right;\">\n",
              "      <th></th>\n",
              "      <th>Vsand</th>\n",
              "      <th>Vlime</th>\n",
              "      <th>Vpiryt</th>\n",
              "      <th>Vkerogen</th>\n",
              "      <th>VCL</th>\n",
              "      <th>PHI</th>\n",
              "      <th>CAL</th>\n",
              "      <th>DT</th>\n",
              "      <th>LLD</th>\n",
              "      <th>LL3</th>\n",
              "      <th>GG_Core</th>\n",
              "      <th>GR</th>\n",
              "      <th>GRS_Core</th>\n",
              "      <th>NPHI_Core</th>\n",
              "      <th>POTA</th>\n",
              "      <th>THOR</th>\n",
              "      <th>URAN</th>\n",
              "      <th>RHOB</th>\n",
              "      <th>TOC</th>\n",
              "    </tr>\n",
              "  </thead>\n",
              "  <tbody>\n",
              "    <tr>\n",
              "      <th>count</th>\n",
              "      <td>35.000000</td>\n",
              "      <td>35.000000</td>\n",
              "      <td>35.000000</td>\n",
              "      <td>35.000000</td>\n",
              "      <td>35.000000</td>\n",
              "      <td>35.000000</td>\n",
              "      <td>35.000000</td>\n",
              "      <td>34.000000</td>\n",
              "      <td>35.000000</td>\n",
              "      <td>35.000000</td>\n",
              "      <td>35.000000</td>\n",
              "      <td>35.00000</td>\n",
              "      <td>35.000000</td>\n",
              "      <td>35.000000</td>\n",
              "      <td>35.000000</td>\n",
              "      <td>35.000000</td>\n",
              "      <td>35.000000</td>\n",
              "      <td>35.000000</td>\n",
              "      <td>35.000000</td>\n",
              "    </tr>\n",
              "    <tr>\n",
              "      <th>mean</th>\n",
              "      <td>0.055960</td>\n",
              "      <td>0.089611</td>\n",
              "      <td>0.004280</td>\n",
              "      <td>0.027840</td>\n",
              "      <td>0.815231</td>\n",
              "      <td>0.007077</td>\n",
              "      <td>217.743169</td>\n",
              "      <td>83.744491</td>\n",
              "      <td>11.939871</td>\n",
              "      <td>12.351689</td>\n",
              "      <td>194.087751</td>\n",
              "      <td>181.39024</td>\n",
              "      <td>145.743326</td>\n",
              "      <td>0.293788</td>\n",
              "      <td>4.519774</td>\n",
              "      <td>11.513640</td>\n",
              "      <td>4.393631</td>\n",
              "      <td>2.585526</td>\n",
              "      <td>2.297714</td>\n",
              "    </tr>\n",
              "    <tr>\n",
              "      <th>std</th>\n",
              "      <td>0.072562</td>\n",
              "      <td>0.096960</td>\n",
              "      <td>0.006175</td>\n",
              "      <td>0.045081</td>\n",
              "      <td>0.053240</td>\n",
              "      <td>0.005668</td>\n",
              "      <td>0.736027</td>\n",
              "      <td>8.475774</td>\n",
              "      <td>10.564558</td>\n",
              "      <td>10.693909</td>\n",
              "      <td>64.384158</td>\n",
              "      <td>51.96734</td>\n",
              "      <td>22.431829</td>\n",
              "      <td>0.055278</td>\n",
              "      <td>0.278910</td>\n",
              "      <td>1.416542</td>\n",
              "      <td>3.536165</td>\n",
              "      <td>0.105450</td>\n",
              "      <td>3.290360</td>\n",
              "    </tr>\n",
              "    <tr>\n",
              "      <th>min</th>\n",
              "      <td>0.000000</td>\n",
              "      <td>0.000000</td>\n",
              "      <td>0.000000</td>\n",
              "      <td>0.000100</td>\n",
              "      <td>0.669200</td>\n",
              "      <td>0.000000</td>\n",
              "      <td>216.720400</td>\n",
              "      <td>74.640600</td>\n",
              "      <td>5.935900</td>\n",
              "      <td>5.419400</td>\n",
              "      <td>137.076700</td>\n",
              "      <td>129.46500</td>\n",
              "      <td>111.315200</td>\n",
              "      <td>0.242666</td>\n",
              "      <td>3.979300</td>\n",
              "      <td>7.654300</td>\n",
              "      <td>1.094700</td>\n",
              "      <td>2.332000</td>\n",
              "      <td>0.100000</td>\n",
              "    </tr>\n",
              "    <tr>\n",
              "      <th>25%</th>\n",
              "      <td>0.000200</td>\n",
              "      <td>0.000300</td>\n",
              "      <td>0.000400</td>\n",
              "      <td>0.000200</td>\n",
              "      <td>0.776500</td>\n",
              "      <td>0.003800</td>\n",
              "      <td>217.091250</td>\n",
              "      <td>77.781225</td>\n",
              "      <td>6.496000</td>\n",
              "      <td>6.453200</td>\n",
              "      <td>153.226650</td>\n",
              "      <td>147.84340</td>\n",
              "      <td>130.558750</td>\n",
              "      <td>0.258005</td>\n",
              "      <td>4.320650</td>\n",
              "      <td>10.706250</td>\n",
              "      <td>2.315150</td>\n",
              "      <td>2.553100</td>\n",
              "      <td>0.180000</td>\n",
              "    </tr>\n",
              "    <tr>\n",
              "      <th>50%</th>\n",
              "      <td>0.000600</td>\n",
              "      <td>0.049700</td>\n",
              "      <td>0.000700</td>\n",
              "      <td>0.004700</td>\n",
              "      <td>0.806600</td>\n",
              "      <td>0.006600</td>\n",
              "      <td>217.683100</td>\n",
              "      <td>80.453100</td>\n",
              "      <td>6.876600</td>\n",
              "      <td>6.750100</td>\n",
              "      <td>165.109300</td>\n",
              "      <td>154.99450</td>\n",
              "      <td>140.038100</td>\n",
              "      <td>0.271260</td>\n",
              "      <td>4.508400</td>\n",
              "      <td>11.890600</td>\n",
              "      <td>2.796700</td>\n",
              "      <td>2.624300</td>\n",
              "      <td>0.560000</td>\n",
              "    </tr>\n",
              "    <tr>\n",
              "      <th>75%</th>\n",
              "      <td>0.122000</td>\n",
              "      <td>0.180450</td>\n",
              "      <td>0.006100</td>\n",
              "      <td>0.020000</td>\n",
              "      <td>0.865850</td>\n",
              "      <td>0.008600</td>\n",
              "      <td>218.259650</td>\n",
              "      <td>86.839875</td>\n",
              "      <td>9.450850</td>\n",
              "      <td>11.081150</td>\n",
              "      <td>192.224900</td>\n",
              "      <td>183.42645</td>\n",
              "      <td>165.350250</td>\n",
              "      <td>0.292808</td>\n",
              "      <td>4.642250</td>\n",
              "      <td>12.524350</td>\n",
              "      <td>4.073700</td>\n",
              "      <td>2.657100</td>\n",
              "      <td>2.920000</td>\n",
              "    </tr>\n",
              "    <tr>\n",
              "      <th>max</th>\n",
              "      <td>0.220500</td>\n",
              "      <td>0.315800</td>\n",
              "      <td>0.020900</td>\n",
              "      <td>0.122700</td>\n",
              "      <td>0.900200</td>\n",
              "      <td>0.026900</td>\n",
              "      <td>219.026700</td>\n",
              "      <td>100.515600</td>\n",
              "      <td>47.636300</td>\n",
              "      <td>44.772700</td>\n",
              "      <td>330.530300</td>\n",
              "      <td>285.90200</td>\n",
              "      <td>204.642900</td>\n",
              "      <td>0.417709</td>\n",
              "      <td>5.131300</td>\n",
              "      <td>14.298600</td>\n",
              "      <td>12.357300</td>\n",
              "      <td>2.697400</td>\n",
              "      <td>10.120000</td>\n",
              "    </tr>\n",
              "  </tbody>\n",
              "</table>\n",
              "</div>\n",
              "      <button class=\"colab-df-convert\" onclick=\"convertToInteractive('df-2d20ead6-2254-443a-8cde-31a5e50b0578')\"\n",
              "              title=\"Convert this dataframe to an interactive table.\"\n",
              "              style=\"display:none;\">\n",
              "        \n",
              "  <svg xmlns=\"http://www.w3.org/2000/svg\" height=\"24px\"viewBox=\"0 0 24 24\"\n",
              "       width=\"24px\">\n",
              "    <path d=\"M0 0h24v24H0V0z\" fill=\"none\"/>\n",
              "    <path d=\"M18.56 5.44l.94 2.06.94-2.06 2.06-.94-2.06-.94-.94-2.06-.94 2.06-2.06.94zm-11 1L8.5 8.5l.94-2.06 2.06-.94-2.06-.94L8.5 2.5l-.94 2.06-2.06.94zm10 10l.94 2.06.94-2.06 2.06-.94-2.06-.94-.94-2.06-.94 2.06-2.06.94z\"/><path d=\"M17.41 7.96l-1.37-1.37c-.4-.4-.92-.59-1.43-.59-.52 0-1.04.2-1.43.59L10.3 9.45l-7.72 7.72c-.78.78-.78 2.05 0 2.83L4 21.41c.39.39.9.59 1.41.59.51 0 1.02-.2 1.41-.59l7.78-7.78 2.81-2.81c.8-.78.8-2.07 0-2.86zM5.41 20L4 18.59l7.72-7.72 1.47 1.35L5.41 20z\"/>\n",
              "  </svg>\n",
              "      </button>\n",
              "      \n",
              "  <style>\n",
              "    .colab-df-container {\n",
              "      display:flex;\n",
              "      flex-wrap:wrap;\n",
              "      gap: 12px;\n",
              "    }\n",
              "\n",
              "    .colab-df-convert {\n",
              "      background-color: #E8F0FE;\n",
              "      border: none;\n",
              "      border-radius: 50%;\n",
              "      cursor: pointer;\n",
              "      display: none;\n",
              "      fill: #1967D2;\n",
              "      height: 32px;\n",
              "      padding: 0 0 0 0;\n",
              "      width: 32px;\n",
              "    }\n",
              "\n",
              "    .colab-df-convert:hover {\n",
              "      background-color: #E2EBFA;\n",
              "      box-shadow: 0px 1px 2px rgba(60, 64, 67, 0.3), 0px 1px 3px 1px rgba(60, 64, 67, 0.15);\n",
              "      fill: #174EA6;\n",
              "    }\n",
              "\n",
              "    [theme=dark] .colab-df-convert {\n",
              "      background-color: #3B4455;\n",
              "      fill: #D2E3FC;\n",
              "    }\n",
              "\n",
              "    [theme=dark] .colab-df-convert:hover {\n",
              "      background-color: #434B5C;\n",
              "      box-shadow: 0px 1px 3px 1px rgba(0, 0, 0, 0.15);\n",
              "      filter: drop-shadow(0px 1px 2px rgba(0, 0, 0, 0.3));\n",
              "      fill: #FFFFFF;\n",
              "    }\n",
              "  </style>\n",
              "\n",
              "      <script>\n",
              "        const buttonEl =\n",
              "          document.querySelector('#df-2d20ead6-2254-443a-8cde-31a5e50b0578 button.colab-df-convert');\n",
              "        buttonEl.style.display =\n",
              "          google.colab.kernel.accessAllowed ? 'block' : 'none';\n",
              "\n",
              "        async function convertToInteractive(key) {\n",
              "          const element = document.querySelector('#df-2d20ead6-2254-443a-8cde-31a5e50b0578');\n",
              "          const dataTable =\n",
              "            await google.colab.kernel.invokeFunction('convertToInteractive',\n",
              "                                                     [key], {});\n",
              "          if (!dataTable) return;\n",
              "\n",
              "          const docLinkHtml = 'Like what you see? Visit the ' +\n",
              "            '<a target=\"_blank\" href=https://colab.research.google.com/notebooks/data_table.ipynb>data table notebook</a>'\n",
              "            + ' to learn more about interactive tables.';\n",
              "          element.innerHTML = '';\n",
              "          dataTable['output_type'] = 'display_data';\n",
              "          await google.colab.output.renderOutput(dataTable, element);\n",
              "          const docLink = document.createElement('div');\n",
              "          docLink.innerHTML = docLinkHtml;\n",
              "          element.appendChild(docLink);\n",
              "        }\n",
              "      </script>\n",
              "    </div>\n",
              "  </div>\n",
              "  "
            ]
          },
          "metadata": {},
          "execution_count": 3
        }
      ]
    },
    {
      "cell_type": "code",
      "metadata": {
        "colab": {
          "base_uri": "https://localhost:8080/"
        },
        "id": "htKcsKrdfkbP",
        "outputId": "fd97b01e-eb84-4712-d957-67bbcf7374e3"
      },
      "source": [
        "df_train.shape"
      ],
      "execution_count": 4,
      "outputs": [
        {
          "output_type": "execute_result",
          "data": {
            "text/plain": [
              "(35, 19)"
            ]
          },
          "metadata": {},
          "execution_count": 4
        }
      ]
    },
    {
      "cell_type": "code",
      "metadata": {
        "colab": {
          "base_uri": "https://localhost:8080/",
          "height": 351
        },
        "id": "PRDrYyq3qp1M",
        "outputId": "0bc73b38-8ebf-4cac-9a43-77b1faf11e6b"
      },
      "source": [
        "# Histogram of TOC\n",
        "sns.distplot(df_train['TOC'])"
      ],
      "execution_count": 5,
      "outputs": [
        {
          "output_type": "stream",
          "name": "stderr",
          "text": [
            "/usr/local/lib/python3.7/dist-packages/seaborn/distributions.py:2619: FutureWarning: `distplot` is a deprecated function and will be removed in a future version. Please adapt your code to use either `displot` (a figure-level function with similar flexibility) or `histplot` (an axes-level function for histograms).\n",
            "  warnings.warn(msg, FutureWarning)\n"
          ]
        },
        {
          "output_type": "execute_result",
          "data": {
            "text/plain": [
              "<matplotlib.axes._subplots.AxesSubplot at 0x7f38045dbe50>"
            ]
          },
          "metadata": {},
          "execution_count": 5
        },
        {
          "output_type": "display_data",
          "data": {
            "text/plain": [
              "<Figure size 432x288 with 1 Axes>"
            ],
            "image/png": "[encoded data removed]"
          },
          "metadata": {
            "needs_background": "light"
          }
        }
      ]
    },
    {
      "cell_type": "code",
      "metadata": {
        "colab": {
          "base_uri": "https://localhost:8080/",
          "height": 351
        },
        "id": "4iW4Zr8pnrQv",
        "outputId": "c3e2ab7f-7117-401f-a191-e85842a8afd8"
      },
      "source": [
        "sns.distplot(np.log1p(df_train[\"TOC\"]) , color = \"r\")"
      ],
      "execution_count": 6,
      "outputs": [
        {
          "output_type": "stream",
          "name": "stderr",
          "text": [
            "/usr/local/lib/python3.7/dist-packages/seaborn/distributions.py:2619: FutureWarning: `distplot` is a deprecated function and will be removed in a future version. Please adapt your code to use either `displot` (a figure-level function with similar flexibility) or `histplot` (an axes-level function for histograms).\n",
            "  warnings.warn(msg, FutureWarning)\n"
          ]
        },
        {
          "output_type": "execute_result",
          "data": {
            "text/plain": [
              "<matplotlib.axes._subplots.AxesSubplot at 0x7f38023d0b50>"
            ]
          },
          "metadata": {},
          "execution_count": 6
        },
        {
          "output_type": "display_data",
          "data": {
            "text/plain": [
              "<Figure size 432x288 with 1 Axes>"
            ],
            "image/png": "[encoded data removed]"
          },
          "metadata": {
            "needs_background": "light"
          }
        }
      ]
    },
    {
      "cell_type": "code",
      "metadata": {
        "colab": {
          "base_uri": "https://localhost:8080/"
        },
        "id": "Ehgv6ogPnN1J",
        "outputId": "2fcc523e-172c-4caa-beb5-c6670ef03eb6"
      },
      "source": [
        "df_train.isnull().sum()"
      ],
      "execution_count": 7,
      "outputs": [
        {
          "output_type": "execute_result",
          "data": {
            "text/plain": [
              "Vsand        0\n",
              "Vlime        0\n",
              "Vpiryt       0\n",
              "Vkerogen     0\n",
              "VCL          0\n",
              "PHI          0\n",
              "CAL          0\n",
              "DT           1\n",
              "LLD          0\n",
              "LL3          0\n",
              "GG_Core      0\n",
              "GR           0\n",
              "GRS_Core     0\n",
              "NPHI_Core    0\n",
              "POTA         0\n",
              "THOR         0\n",
              "URAN         0\n",
              "RHOB         0\n",
              "TOC          0\n",
              "dtype: int64"
            ]
          },
          "metadata": {},
          "execution_count": 7
        }
      ]
    },
    {
      "cell_type": "code",
      "metadata": {
        "colab": {
          "base_uri": "https://localhost:8080/",
          "height": 645
        },
        "id": "E7y_kTlBnTPp",
        "outputId": "ea29db7d-b9ab-4da1-d63b-10cfe787d131"
      },
      "source": [
        "#missing data Train set\n",
        "total_train = df_train.isnull().sum().sort_values(ascending=False)\n",
        "percent_train = (df_train.isnull().sum()/df_train.isnull().count()).sort_values(ascending=False)\n",
        "missing_data_train = pd.concat([total_train, percent_train], axis=1, keys=['Total', 'Percent'])\n",
        "missing_data_train.head(20)"
      ],
      "execution_count": 8,
      "outputs": [
        {
          "output_type": "execute_result",
          "data": {
            "text/plain": [
              "           Total   Percent\n",
              "DT             1  0.028571\n",
              "Vsand          0  0.000000\n",
              "GG_Core        0  0.000000\n",
              "RHOB           0  0.000000\n",
              "URAN           0  0.000000\n",
              "THOR           0  0.000000\n",
              "POTA           0  0.000000\n",
              "NPHI_Core      0  0.000000\n",
              "GRS_Core       0  0.000000\n",
              "GR             0  0.000000\n",
              "LL3            0  0.000000\n",
              "Vlime          0  0.000000\n",
              "LLD            0  0.000000\n",
              "CAL            0  0.000000\n",
              "PHI            0  0.000000\n",
              "VCL            0  0.000000\n",
              "Vkerogen       0  0.000000\n",
              "Vpiryt         0  0.000000\n",
              "TOC            0  0.000000"
            ],
            "text/html": [
              "\n",
              "  <div id=\"df-22770e32-f90c-4a13-b8ca-9ddde055511d\">\n",
              "    <div class=\"colab-df-container\">\n",
              "      <div>\n",
              "<style scoped>\n",
              "    .dataframe tbody tr th:only-of-type {\n",
              "        vertical-align: middle;\n",
              "    }\n",
              "\n",
              "    .dataframe tbody tr th {\n",
              "        vertical-align: top;\n",
              "    }\n",
              "\n",
              "    .dataframe thead th {\n",
              "        text-align: right;\n",
              "    }\n",
              "</style>\n",
              "<table border=\"1\" class=\"dataframe\">\n",
              "  <thead>\n",
              "    <tr style=\"text-align: right;\">\n",
              "      <th></th>\n",
              "      <th>Total</th>\n",
              "      <th>Percent</th>\n",
              "    </tr>\n",
              "  </thead>\n",
              "  <tbody>\n",
              "    <tr>\n",
              "      <th>DT</th>\n",
              "      <td>1</td>\n",
              "      <td>0.028571</td>\n",
              "    </tr>\n",
              "    <tr>\n",
              "      <th>Vsand</th>\n",
              "      <td>0</td>\n",
              "      <td>0.000000</td>\n",
              "    </tr>\n",
              "    <tr>\n",
              "      <th>GG_Core</th>\n",
              "      <td>0</td>\n",
              "      <td>0.000000</td>\n",
              "    </tr>\n",
              "    <tr>\n",
              "      <th>RHOB</th>\n",
              "      <td>0</td>\n",
              "      <td>0.000000</td>\n",
              "    </tr>\n",
              "    <tr>\n",
              "      <th>URAN</th>\n",
              "      <td>0</td>\n",
              "      <td>0.000000</td>\n",
              "    </tr>\n",
              "    <tr>\n",
              "      <th>THOR</th>\n",
              "      <td>0</td>\n",
              "      <td>0.000000</td>\n",
              "    </tr>\n",
              "    <tr>\n",
              "      <th>POTA</th>\n",
              "      <td>0</td>\n",
              "      <td>0.000000</td>\n",
              "    </tr>\n",
              "    <tr>\n",
              "      <th>NPHI_Core</th>\n",
              "      <td>0</td>\n",
              "      <td>0.000000</td>\n",
              "    </tr>\n",
              "    <tr>\n",
              "      <th>GRS_Core</th>\n",
              "      <td>0</td>\n",
              "      <td>0.000000</td>\n",
              "    </tr>\n",
              "    <tr>\n",
              "      <th>GR</th>\n",
              "      <td>0</td>\n",
              "      <td>0.000000</td>\n",
              "    </tr>\n",
              "    <tr>\n",
              "      <th>LL3</th>\n",
              "      <td>0</td>\n",
              "      <td>0.000000</td>\n",
              "    </tr>\n",
              "    <tr>\n",
              "      <th>Vlime</th>\n",
              "      <td>0</td>\n",
              "      <td>0.000000</td>\n",
              "    </tr>\n",
              "    <tr>\n",
              "      <th>LLD</th>\n",
              "      <td>0</td>\n",
              "      <td>0.000000</td>\n",
              "    </tr>\n",
              "    <tr>\n",
              "      <th>CAL</th>\n",
              "      <td>0</td>\n",
              "      <td>0.000000</td>\n",
              "    </tr>\n",
              "    <tr>\n",
              "      <th>PHI</th>\n",
              "      <td>0</td>\n",
              "      <td>0.000000</td>\n",
              "    </tr>\n",
              "    <tr>\n",
              "      <th>VCL</th>\n",
              "      <td>0</td>\n",
              "      <td>0.000000</td>\n",
              "    </tr>\n",
              "    <tr>\n",
              "      <th>Vkerogen</th>\n",
              "      <td>0</td>\n",
              "      <td>0.000000</td>\n",
              "    </tr>\n",
              "    <tr>\n",
              "      <th>Vpiryt</th>\n",
              "      <td>0</td>\n",
              "      <td>0.000000</td>\n",
              "    </tr>\n",
              "    <tr>\n",
              "      <th>TOC</th>\n",
              "      <td>0</td>\n",
              "      <td>0.000000</td>\n",
              "    </tr>\n",
              "  </tbody>\n",
              "</table>\n",
              "</div>\n",
              "      <button class=\"colab-df-convert\" onclick=\"convertToInteractive('df-22770e32-f90c-4a13-b8ca-9ddde055511d')\"\n",
              "              title=\"Convert this dataframe to an interactive table.\"\n",
              "              style=\"display:none;\">\n",
              "        \n",
              "  <svg xmlns=\"http://www.w3.org/2000/svg\" height=\"24px\"viewBox=\"0 0 24 24\"\n",
              "       width=\"24px\">\n",
              "    <path d=\"M0 0h24v24H0V0z\" fill=\"none\"/>\n",
              "    <path d=\"M18.56 5.44l.94 2.06.94-2.06 2.06-.94-2.06-.94-.94-2.06-.94 2.06-2.06.94zm-11 1L8.5 8.5l.94-2.06 2.06-.94-2.06-.94L8.5 2.5l-.94 2.06-2.06.94zm10 10l.94 2.06.94-2.06 2.06-.94-2.06-.94-.94-2.06-.94 2.06-2.06.94z\"/><path d=\"M17.41 7.96l-1.37-1.37c-.4-.4-.92-.59-1.43-.59-.52 0-1.04.2-1.43.59L10.3 9.45l-7.72 7.72c-.78.78-.78 2.05 0 2.83L4 21.41c.39.39.9.59 1.41.59.51 0 1.02-.2 1.41-.59l7.78-7.78 2.81-2.81c.8-.78.8-2.07 0-2.86zM5.41 20L4 18.59l7.72-7.72 1.47 1.35L5.41 20z\"/>\n",
              "  </svg>\n",
              "      </button>\n",
              "      \n",
              "  <style>\n",
              "    .colab-df-container {\n",
              "      display:flex;\n",
              "      flex-wrap:wrap;\n",
              "      gap: 12px;\n",
              "    }\n",
              "\n",
              "    .colab-df-convert {\n",
              "      background-color: #E8F0FE;\n",
              "      border: none;\n",
              "      border-radius: 50%;\n",
              "      cursor: pointer;\n",
              "      display: none;\n",
              "      fill: #1967D2;\n",
              "      height: 32px;\n",
              "      padding: 0 0 0 0;\n",
              "      width: 32px;\n",
              "    }\n",
              "\n",
              "    .colab-df-convert:hover {\n",
              "      background-color: #E2EBFA;\n",
              "      box-shadow: 0px 1px 2px rgba(60, 64, 67, 0.3), 0px 1px 3px 1px rgba(60, 64, 67, 0.15);\n",
              "      fill: #174EA6;\n",
              "    }\n",
              "\n",
              "    [theme=dark] .colab-df-convert {\n",
              "      background-color: #3B4455;\n",
              "      fill: #D2E3FC;\n",
              "    }\n",
              "\n",
              "    [theme=dark] .colab-df-convert:hover {\n",
              "      background-color: #434B5C;\n",
              "      box-shadow: 0px 1px 3px 1px rgba(0, 0, 0, 0.15);\n",
              "      filter: drop-shadow(0px 1px 2px rgba(0, 0, 0, 0.3));\n",
              "      fill: #FFFFFF;\n",
              "    }\n",
              "  </style>\n",
              "\n",
              "      <script>\n",
              "        const buttonEl =\n",
              "          document.querySelector('#df-22770e32-f90c-4a13-b8ca-9ddde055511d button.colab-df-convert');\n",
              "        buttonEl.style.display =\n",
              "          google.colab.kernel.accessAllowed ? 'block' : 'none';\n",
              "\n",
              "        async function convertToInteractive(key) {\n",
              "          const element = document.querySelector('#df-22770e32-f90c-4a13-b8ca-9ddde055511d');\n",
              "          const dataTable =\n",
              "            await google.colab.kernel.invokeFunction('convertToInteractive',\n",
              "                                                     [key], {});\n",
              "          if (!dataTable) return;\n",
              "\n",
              "          const docLinkHtml = 'Like what you see? Visit the ' +\n",
              "            '<a target=\"_blank\" href=https://colab.research.google.com/notebooks/data_table.ipynb>data table notebook</a>'\n",
              "            + ' to learn more about interactive tables.';\n",
              "          element.innerHTML = '';\n",
              "          dataTable['output_type'] = 'display_data';\n",
              "          await google.colab.output.renderOutput(dataTable, element);\n",
              "          const docLink = document.createElement('div');\n",
              "          docLink.innerHTML = docLinkHtml;\n",
              "          element.appendChild(docLink);\n",
              "        }\n",
              "      </script>\n",
              "    </div>\n",
              "  </div>\n",
              "  "
            ]
          },
          "metadata": {},
          "execution_count": 8
        }
      ]
    },
    {
      "cell_type": "code",
      "metadata": {
        "colab": {
          "base_uri": "https://localhost:8080/",
          "height": 364
        },
        "id": "EPsUL4v5kDaK",
        "outputId": "6587abd9-81e2-4cde-cd8b-d9a36b5394cb"
      },
      "source": [
        "df_test.describe()"
      ],
      "execution_count": 9,
      "outputs": [
        {
          "output_type": "execute_result",
          "data": {
            "text/plain": [
              "            Vsand       Vlime      Vpiryt    Vkerogen         VCL         PHI  \\\n",
              "count  296.000000  296.000000  296.000000  296.000000  296.000000  296.000000   \n",
              "mean     0.055261    0.110405    0.005065    0.016872    0.805848    0.006549   \n",
              "std      0.071954    0.115123    0.007981    0.033469    0.076689    0.005418   \n",
              "min      0.000000    0.000000    0.000000    0.000000    0.351000    0.000000   \n",
              "25%      0.000200    0.000300    0.000500    0.000200    0.775950    0.002800   \n",
              "50%      0.000700    0.090200    0.000800    0.001950    0.805400    0.005200   \n",
              "75%      0.117775    0.196375    0.006925    0.011175    0.859500    0.009050   \n",
              "max      0.233100    0.629600    0.043900    0.128800    0.952400    0.027100   \n",
              "\n",
              "              CAL          DT         LLD         LL3     GG_Core          GR  \\\n",
              "count  296.000000  286.000000  296.000000  296.000000  296.000000  296.000000   \n",
              "mean   217.813744   81.863855    9.676185   10.062527  178.448302  169.119733   \n",
              "std      0.809446    6.944101    8.386990    8.362479   50.760124   41.044119   \n",
              "min    216.590900   69.609400    5.843000    5.230400   68.968300  100.021600   \n",
              "25%    217.040500   77.167925    6.413125    6.354025  150.332150  144.864500   \n",
              "50%    217.973900   79.882800    6.729850    6.662950  162.883000  154.990600   \n",
              "75%    218.443150   83.289050    7.695750    8.683100  182.321250  169.928900   \n",
              "max    221.043500  101.750000   50.231700   46.533300  336.001700  287.704300   \n",
              "\n",
              "         GRS_Core   NPHI_Core        POTA        THOR        URAN        RHOB  \\\n",
              "count  296.000000  296.000000  296.000000  296.000000  296.000000  296.000000   \n",
              "mean   141.061207    0.281699    4.556348   11.427761    3.547804    2.610569   \n",
              "std     20.936882    0.045912    0.346125    1.518463    2.718195    0.084999   \n",
              "min     59.950400    0.149508    3.326500    6.624500    0.868600    2.324900   \n",
              "25%    126.483275    0.258903    4.339625   10.347900    2.182725    2.590725   \n",
              "50%    139.045950    0.269803    4.526450   11.590300    2.693550    2.636250   \n",
              "75%    150.643450    0.286541    4.757775   12.508900    3.469650    2.663425   \n",
              "max    205.955800    0.424293    5.295700   15.311200   12.357300    2.728600   \n",
              "\n",
              "             TOC  \n",
              "count  35.000000  \n",
              "mean    2.297714  \n",
              "std     3.290360  \n",
              "min     0.100000  \n",
              "25%     0.180000  \n",
              "50%     0.560000  \n",
              "75%     2.920000  \n",
              "max    10.120000  "
            ],
            "text/html": [
              "\n",
              "  <div id=\"df-688b1e24-136c-4467-b3da-ffa7a25512c6\">\n",
              "    <div class=\"colab-df-container\">\n",
              "      <div>\n",
              "<style scoped>\n",
              "    .dataframe tbody tr th:only-of-type {\n",
              "        vertical-align: middle;\n",
              "    }\n",
              "\n",
              "    .dataframe tbody tr th {\n",
              "        vertical-align: top;\n",
              "    }\n",
              "\n",
              "    .dataframe thead th {\n",
              "        text-align: right;\n",
              "    }\n",
              "</style>\n",
              "<table border=\"1\" class=\"dataframe\">\n",
              "  <thead>\n",
              "    <tr style=\"text-align: right;\">\n",
              "      <th></th>\n",
              "      <th>Vsand</th>\n",
              "      <th>Vlime</th>\n",
              "      <th>Vpiryt</th>\n",
              "      <th>Vkerogen</th>\n",
              "      <th>VCL</th>\n",
              "      <th>PHI</th>\n",
              "      <th>CAL</th>\n",
              "      <th>DT</th>\n",
              "      <th>LLD</th>\n",
              "      <th>LL3</th>\n",
              "      <th>GG_Core</th>\n",
              "      <th>GR</th>\n",
              "      <th>GRS_Core</th>\n",
              "      <th>NPHI_Core</th>\n",
              "      <th>POTA</th>\n",
              "      <th>THOR</th>\n",
              "      <th>URAN</th>\n",
              "      <th>RHOB</th>\n",
              "      <th>TOC</th>\n",
              "    </tr>\n",
              "  </thead>\n",
              "  <tbody>\n",
              "    <tr>\n",
              "      <th>count</th>\n",
              "      <td>296.000000</td>\n",
              "      <td>296.000000</td>\n",
              "      <td>296.000000</td>\n",
              "      <td>296.000000</td>\n",
              "      <td>296.000000</td>\n",
              "      <td>296.000000</td>\n",
              "      <td>296.000000</td>\n",
              "      <td>286.000000</td>\n",
              "      <td>296.000000</td>\n",
              "      <td>296.000000</td>\n",
              "      <td>296.000000</td>\n",
              "      <td>296.000000</td>\n",
              "      <td>296.000000</td>\n",
              "      <td>296.000000</td>\n",
              "      <td>296.000000</td>\n",
              "      <td>296.000000</td>\n",
              "      <td>296.000000</td>\n",
              "      <td>296.000000</td>\n",
              "      <td>35.000000</td>\n",
              "    </tr>\n",
              "    <tr>\n",
              "      <th>mean</th>\n",
              "      <td>0.055261</td>\n",
              "      <td>0.110405</td>\n",
              "      <td>0.005065</td>\n",
              "      <td>0.016872</td>\n",
              "      <td>0.805848</td>\n",
              "      <td>0.006549</td>\n",
              "      <td>217.813744</td>\n",
              "      <td>81.863855</td>\n",
              "      <td>9.676185</td>\n",
              "      <td>10.062527</td>\n",
              "      <td>178.448302</td>\n",
              "      <td>169.119733</td>\n",
              "      <td>141.061207</td>\n",
              "      <td>0.281699</td>\n",
              "      <td>4.556348</td>\n",
              "      <td>11.427761</td>\n",
              "      <td>3.547804</td>\n",
              "      <td>2.610569</td>\n",
              "      <td>2.297714</td>\n",
              "    </tr>\n",
              "    <tr>\n",
              "      <th>std</th>\n",
              "      <td>0.071954</td>\n",
              "      <td>0.115123</td>\n",
              "      <td>0.007981</td>\n",
              "      <td>0.033469</td>\n",
              "      <td>0.076689</td>\n",
              "      <td>0.005418</td>\n",
              "      <td>0.809446</td>\n",
              "      <td>6.944101</td>\n",
              "      <td>8.386990</td>\n",
              "      <td>8.362479</td>\n",
              "      <td>50.760124</td>\n",
              "      <td>41.044119</td>\n",
              "      <td>20.936882</td>\n",
              "      <td>0.045912</td>\n",
              "      <td>0.346125</td>\n",
              "      <td>1.518463</td>\n",
              "      <td>2.718195</td>\n",
              "      <td>0.084999</td>\n",
              "      <td>3.290360</td>\n",
              "    </tr>\n",
              "    <tr>\n",
              "      <th>min</th>\n",
              "      <td>0.000000</td>\n",
              "      <td>0.000000</td>\n",
              "      <td>0.000000</td>\n",
              "      <td>0.000000</td>\n",
              "      <td>0.351000</td>\n",
              "      <td>0.000000</td>\n",
              "      <td>216.590900</td>\n",
              "      <td>69.609400</td>\n",
              "      <td>5.843000</td>\n",
              "      <td>5.230400</td>\n",
              "      <td>68.968300</td>\n",
              "      <td>100.021600</td>\n",
              "      <td>59.950400</td>\n",
              "      <td>0.149508</td>\n",
              "      <td>3.326500</td>\n",
              "      <td>6.624500</td>\n",
              "      <td>0.868600</td>\n",
              "      <td>2.324900</td>\n",
              "      <td>0.100000</td>\n",
              "    </tr>\n",
              "    <tr>\n",
              "      <th>25%</th>\n",
              "      <td>0.000200</td>\n",
              "      <td>0.000300</td>\n",
              "      <td>0.000500</td>\n",
              "      <td>0.000200</td>\n",
              "      <td>0.775950</td>\n",
              "      <td>0.002800</td>\n",
              "      <td>217.040500</td>\n",
              "      <td>77.167925</td>\n",
              "      <td>6.413125</td>\n",
              "      <td>6.354025</td>\n",
              "      <td>150.332150</td>\n",
              "      <td>144.864500</td>\n",
              "      <td>126.483275</td>\n",
              "      <td>0.258903</td>\n",
              "      <td>4.339625</td>\n",
              "      <td>10.347900</td>\n",
              "      <td>2.182725</td>\n",
              "      <td>2.590725</td>\n",
              "      <td>0.180000</td>\n",
              "    </tr>\n",
              "    <tr>\n",
              "      <th>50%</th>\n",
              "      <td>0.000700</td>\n",
              "      <td>0.090200</td>\n",
              "      <td>0.000800</td>\n",
              "      <td>0.001950</td>\n",
              "      <td>0.805400</td>\n",
              "      <td>0.005200</td>\n",
              "      <td>217.973900</td>\n",
              "      <td>79.882800</td>\n",
              "      <td>6.729850</td>\n",
              "      <td>6.662950</td>\n",
              "      <td>162.883000</td>\n",
              "      <td>154.990600</td>\n",
              "      <td>139.045950</td>\n",
              "      <td>0.269803</td>\n",
              "      <td>4.526450</td>\n",
              "      <td>11.590300</td>\n",
              "      <td>2.693550</td>\n",
              "      <td>2.636250</td>\n",
              "      <td>0.560000</td>\n",
              "    </tr>\n",
              "    <tr>\n",
              "      <th>75%</th>\n",
              "      <td>0.117775</td>\n",
              "      <td>0.196375</td>\n",
              "      <td>0.006925</td>\n",
              "      <td>0.011175</td>\n",
              "      <td>0.859500</td>\n",
              "      <td>0.009050</td>\n",
              "      <td>218.443150</td>\n",
              "      <td>83.289050</td>\n",
              "      <td>7.695750</td>\n",
              "      <td>8.683100</td>\n",
              "      <td>182.321250</td>\n",
              "      <td>169.928900</td>\n",
              "      <td>150.643450</td>\n",
              "      <td>0.286541</td>\n",
              "      <td>4.757775</td>\n",
              "      <td>12.508900</td>\n",
              "      <td>3.469650</td>\n",
              "      <td>2.663425</td>\n",
              "      <td>2.920000</td>\n",
              "    </tr>\n",
              "    <tr>\n",
              "      <th>max</th>\n",
              "      <td>0.233100</td>\n",
              "      <td>0.629600</td>\n",
              "      <td>0.043900</td>\n",
              "      <td>0.128800</td>\n",
              "      <td>0.952400</td>\n",
              "      <td>0.027100</td>\n",
              "      <td>221.043500</td>\n",
              "      <td>101.750000</td>\n",
              "      <td>50.231700</td>\n",
              "      <td>46.533300</td>\n",
              "      <td>336.001700</td>\n",
              "      <td>287.704300</td>\n",
              "      <td>205.955800</td>\n",
              "      <td>0.424293</td>\n",
              "      <td>5.295700</td>\n",
              "      <td>15.311200</td>\n",
              "      <td>12.357300</td>\n",
              "      <td>2.728600</td>\n",
              "      <td>10.120000</td>\n",
              "    </tr>\n",
              "  </tbody>\n",
              "</table>\n",
              "</div>\n",
              "      <button class=\"colab-df-convert\" onclick=\"convertToInteractive('df-688b1e24-136c-4467-b3da-ffa7a25512c6')\"\n",
              "              title=\"Convert this dataframe to an interactive table.\"\n",
              "              style=\"display:none;\">\n",
              "        \n",
              "  <svg xmlns=\"http://www.w3.org/2000/svg\" height=\"24px\"viewBox=\"0 0 24 24\"\n",
              "       width=\"24px\">\n",
              "    <path d=\"M0 0h24v24H0V0z\" fill=\"none\"/>\n",
              "    <path d=\"M18.56 5.44l.94 2.06.94-2.06 2.06-.94-2.06-.94-.94-2.06-.94 2.06-2.06.94zm-11 1L8.5 8.5l.94-2.06 2.06-.94-2.06-.94L8.5 2.5l-.94 2.06-2.06.94zm10 10l.94 2.06.94-2.06 2.06-.94-2.06-.94-.94-2.06-.94 2.06-2.06.94z\"/><path d=\"M17.41 7.96l-1.37-1.37c-.4-.4-.92-.59-1.43-.59-.52 0-1.04.2-1.43.59L10.3 9.45l-7.72 7.72c-.78.78-.78 2.05 0 2.83L4 21.41c.39.39.9.59 1.41.59.51 0 1.02-.2 1.41-.59l7.78-7.78 2.81-2.81c.8-.78.8-2.07 0-2.86zM5.41 20L4 18.59l7.72-7.72 1.47 1.35L5.41 20z\"/>\n",
              "  </svg>\n",
              "      </button>\n",
              "      \n",
              "  <style>\n",
              "    .colab-df-container {\n",
              "      display:flex;\n",
              "      flex-wrap:wrap;\n",
              "      gap: 12px;\n",
              "    }\n",
              "\n",
              "    .colab-df-convert {\n",
              "      background-color: #E8F0FE;\n",
              "      border: none;\n",
              "      border-radius: 50%;\n",
              "      cursor: pointer;\n",
              "      display: none;\n",
              "      fill: #1967D2;\n",
              "      height: 32px;\n",
              "      padding: 0 0 0 0;\n",
              "      width: 32px;\n",
              "    }\n",
              "\n",
              "    .colab-df-convert:hover {\n",
              "      background-color: #E2EBFA;\n",
              "      box-shadow: 0px 1px 2px rgba(60, 64, 67, 0.3), 0px 1px 3px 1px rgba(60, 64, 67, 0.15);\n",
              "      fill: #174EA6;\n",
              "    }\n",
              "\n",
              "    [theme=dark] .colab-df-convert {\n",
              "      background-color: #3B4455;\n",
              "      fill: #D2E3FC;\n",
              "    }\n",
              "\n",
              "    [theme=dark] .colab-df-convert:hover {\n",
              "      background-color: #434B5C;\n",
              "      box-shadow: 0px 1px 3px 1px rgba(0, 0, 0, 0.15);\n",
              "      filter: drop-shadow(0px 1px 2px rgba(0, 0, 0, 0.3));\n",
              "      fill: #FFFFFF;\n",
              "    }\n",
              "  </style>\n",
              "\n",
              "      <script>\n",
              "        const buttonEl =\n",
              "          document.querySelector('#df-688b1e24-136c-4467-b3da-ffa7a25512c6 button.colab-df-convert');\n",
              "        buttonEl.style.display =\n",
              "          google.colab.kernel.accessAllowed ? 'block' : 'none';\n",
              "\n",
              "        async function convertToInteractive(key) {\n",
              "          const element = document.querySelector('#df-688b1e24-136c-4467-b3da-ffa7a25512c6');\n",
              "          const dataTable =\n",
              "            await google.colab.kernel.invokeFunction('convertToInteractive',\n",
              "                                                     [key], {});\n",
              "          if (!dataTable) return;\n",
              "\n",
              "          const docLinkHtml = 'Like what you see? Visit the ' +\n",
              "            '<a target=\"_blank\" href=https://colab.research.google.com/notebooks/data_table.ipynb>data table notebook</a>'\n",
              "            + ' to learn more about interactive tables.';\n",
              "          element.innerHTML = '';\n",
              "          dataTable['output_type'] = 'display_data';\n",
              "          await google.colab.output.renderOutput(dataTable, element);\n",
              "          const docLink = document.createElement('div');\n",
              "          docLink.innerHTML = docLinkHtml;\n",
              "          element.appendChild(docLink);\n",
              "        }\n",
              "      </script>\n",
              "    </div>\n",
              "  </div>\n",
              "  "
            ]
          },
          "metadata": {},
          "execution_count": 9
        }
      ]
    },
    {
      "cell_type": "code",
      "metadata": {
        "colab": {
          "base_uri": "https://localhost:8080/"
        },
        "id": "IPZ1BmJYkGzB",
        "outputId": "7b7e9fa6-fbc6-49bc-b28d-140415658d3c"
      },
      "source": [
        "df_test.shape"
      ],
      "execution_count": 10,
      "outputs": [
        {
          "output_type": "execute_result",
          "data": {
            "text/plain": [
              "(296, 19)"
            ]
          },
          "metadata": {},
          "execution_count": 10
        }
      ]
    },
    {
      "cell_type": "code",
      "metadata": {
        "colab": {
          "base_uri": "https://localhost:8080/"
        },
        "id": "i7N7PooshGWh",
        "outputId": "776f5550-b873-4abb-9564-94c80c686c7a"
      },
      "source": [
        "df_test.isnull().sum()"
      ],
      "execution_count": 11,
      "outputs": [
        {
          "output_type": "execute_result",
          "data": {
            "text/plain": [
              "Vsand          0\n",
              "Vlime          0\n",
              "Vpiryt         0\n",
              "Vkerogen       0\n",
              "VCL            0\n",
              "PHI            0\n",
              "CAL            0\n",
              "DT            10\n",
              "LLD            0\n",
              "LL3            0\n",
              "GG_Core        0\n",
              "GR             0\n",
              "GRS_Core       0\n",
              "NPHI_Core      0\n",
              "POTA           0\n",
              "THOR           0\n",
              "URAN           0\n",
              "RHOB           0\n",
              "TOC          261\n",
              "dtype: int64"
            ]
          },
          "metadata": {},
          "execution_count": 11
        }
      ]
    },
    {
      "cell_type": "code",
      "metadata": {
        "colab": {
          "base_uri": "https://localhost:8080/",
          "height": 645
        },
        "id": "-H9iijGDnDFC",
        "outputId": "f5352c9b-24ef-4b3b-eae1-89cd88133bc8"
      },
      "source": [
        "#missing data Test set\n",
        "total_test = df_test.isnull().sum().sort_values(ascending=False)\n",
        "percent_test = (df_test.isnull().sum()/df_test.isnull().count()).sort_values(ascending=False)\n",
        "missing_data_test = pd.concat([total_test, percent_test], axis=1, keys=['Total', 'Percent'])\n",
        "missing_data_test.head(20)"
      ],
      "execution_count": 12,
      "outputs": [
        {
          "output_type": "execute_result",
          "data": {
            "text/plain": [
              "           Total   Percent\n",
              "TOC          261  0.881757\n",
              "DT            10  0.033784\n",
              "GG_Core        0  0.000000\n",
              "RHOB           0  0.000000\n",
              "URAN           0  0.000000\n",
              "THOR           0  0.000000\n",
              "POTA           0  0.000000\n",
              "NPHI_Core      0  0.000000\n",
              "GRS_Core       0  0.000000\n",
              "GR             0  0.000000\n",
              "Vsand          0  0.000000\n",
              "Vlime          0  0.000000\n",
              "LLD            0  0.000000\n",
              "CAL            0  0.000000\n",
              "PHI            0  0.000000\n",
              "VCL            0  0.000000\n",
              "Vkerogen       0  0.000000\n",
              "Vpiryt         0  0.000000\n",
              "LL3            0  0.000000"
            ],
            "text/html": [
              "\n",
              "  <div id=\"df-fec46540-a83f-4864-8373-b43cfc06444e\">\n",
              "    <div class=\"colab-df-container\">\n",
              "      <div>\n",
              "<style scoped>\n",
              "    .dataframe tbody tr th:only-of-type {\n",
              "        vertical-align: middle;\n",
              "    }\n",
              "\n",
              "    .dataframe tbody tr th {\n",
              "        vertical-align: top;\n",
              "    }\n",
              "\n",
              "    .dataframe thead th {\n",
              "        text-align: right;\n",
              "    }\n",
              "</style>\n",
              "<table border=\"1\" class=\"dataframe\">\n",
              "  <thead>\n",
              "    <tr style=\"text-align: right;\">\n",
              "      <th></th>\n",
              "      <th>Total</th>\n",
              "      <th>Percent</th>\n",
              "    </tr>\n",
              "  </thead>\n",
              "  <tbody>\n",
              "    <tr>\n",
              "      <th>TOC</th>\n",
              "      <td>261</td>\n",
              "      <td>0.881757</td>\n",
              "    </tr>\n",
              "    <tr>\n",
              "      <th>DT</th>\n",
              "      <td>10</td>\n",
              "      <td>0.033784</td>\n",
              "    </tr>\n",
              "    <tr>\n",
              "      <th>GG_Core</th>\n",
              "      <td>0</td>\n",
              "      <td>0.000000</td>\n",
              "    </tr>\n",
              "    <tr>\n",
              "      <th>RHOB</th>\n",
              "      <td>0</td>\n",
              "      <td>0.000000</td>\n",
              "    </tr>\n",
              "    <tr>\n",
              "      <th>URAN</th>\n",
              "      <td>0</td>\n",
              "      <td>0.000000</td>\n",
              "    </tr>\n",
              "    <tr>\n",
              "      <th>THOR</th>\n",
              "      <td>0</td>\n",
              "      <td>0.000000</td>\n",
              "    </tr>\n",
              "    <tr>\n",
              "      <th>POTA</th>\n",
              "      <td>0</td>\n",
              "      <td>0.000000</td>\n",
              "    </tr>\n",
              "    <tr>\n",
              "      <th>NPHI_Core</th>\n",
              "      <td>0</td>\n",
              "      <td>0.000000</td>\n",
              "    </tr>\n",
              "    <tr>\n",
              "      <th>GRS_Core</th>\n",
              "      <td>0</td>\n",
              "      <td>0.000000</td>\n",
              "    </tr>\n",
              "    <tr>\n",
              "      <th>GR</th>\n",
              "      <td>0</td>\n",
              "      <td>0.000000</td>\n",
              "    </tr>\n",
              "    <tr>\n",
              "      <th>Vsand</th>\n",
              "      <td>0</td>\n",
              "      <td>0.000000</td>\n",
              "    </tr>\n",
              "    <tr>\n",
              "      <th>Vlime</th>\n",
              "      <td>0</td>\n",
              "      <td>0.000000</td>\n",
              "    </tr>\n",
              "    <tr>\n",
              "      <th>LLD</th>\n",
              "      <td>0</td>\n",
              "      <td>0.000000</td>\n",
              "    </tr>\n",
              "    <tr>\n",
              "      <th>CAL</th>\n",
              "      <td>0</td>\n",
              "      <td>0.000000</td>\n",
              "    </tr>\n",
              "    <tr>\n",
              "      <th>PHI</th>\n",
              "      <td>0</td>\n",
              "      <td>0.000000</td>\n",
              "    </tr>\n",
              "    <tr>\n",
              "      <th>VCL</th>\n",
              "      <td>0</td>\n",
              "      <td>0.000000</td>\n",
              "    </tr>\n",
              "    <tr>\n",
              "      <th>Vkerogen</th>\n",
              "      <td>0</td>\n",
              "      <td>0.000000</td>\n",
              "    </tr>\n",
              "    <tr>\n",
              "      <th>Vpiryt</th>\n",
              "      <td>0</td>\n",
              "      <td>0.000000</td>\n",
              "    </tr>\n",
              "    <tr>\n",
              "      <th>LL3</th>\n",
              "      <td>0</td>\n",
              "      <td>0.000000</td>\n",
              "    </tr>\n",
              "  </tbody>\n",
              "</table>\n",
              "</div>\n",
              "      <button class=\"colab-df-convert\" onclick=\"convertToInteractive('df-fec46540-a83f-4864-8373-b43cfc06444e')\"\n",
              "              title=\"Convert this dataframe to an interactive table.\"\n",
              "              style=\"display:none;\">\n",
              "        \n",
              "  <svg xmlns=\"http://www.w3.org/2000/svg\" height=\"24px\"viewBox=\"0 0 24 24\"\n",
              "       width=\"24px\">\n",
              "    <path d=\"M0 0h24v24H0V0z\" fill=\"none\"/>\n",
              "    <path d=\"M18.56 5.44l.94 2.06.94-2.06 2.06-.94-2.06-.94-.94-2.06-.94 2.06-2.06.94zm-11 1L8.5 8.5l.94-2.06 2.06-.94-2.06-.94L8.5 2.5l-.94 2.06-2.06.94zm10 10l.94 2.06.94-2.06 2.06-.94-2.06-.94-.94-2.06-.94 2.06-2.06.94z\"/><path d=\"M17.41 7.96l-1.37-1.37c-.4-.4-.92-.59-1.43-.59-.52 0-1.04.2-1.43.59L10.3 9.45l-7.72 7.72c-.78.78-.78 2.05 0 2.83L4 21.41c.39.39.9.59 1.41.59.51 0 1.02-.2 1.41-.59l7.78-7.78 2.81-2.81c.8-.78.8-2.07 0-2.86zM5.41 20L4 18.59l7.72-7.72 1.47 1.35L5.41 20z\"/>\n",
              "  </svg>\n",
              "      </button>\n",
              "      \n",
              "  <style>\n",
              "    .colab-df-container {\n",
              "      display:flex;\n",
              "      flex-wrap:wrap;\n",
              "      gap: 12px;\n",
              "    }\n",
              "\n",
              "    .colab-df-convert {\n",
              "      background-color: #E8F0FE;\n",
              "      border: none;\n",
              "      border-radius: 50%;\n",
              "      cursor: pointer;\n",
              "      display: none;\n",
              "      fill: #1967D2;\n",
              "      height: 32px;\n",
              "      padding: 0 0 0 0;\n",
              "      width: 32px;\n",
              "    }\n",
              "\n",
              "    .colab-df-convert:hover {\n",
              "      background-color: #E2EBFA;\n",
              "      box-shadow: 0px 1px 2px rgba(60, 64, 67, 0.3), 0px 1px 3px 1px rgba(60, 64, 67, 0.15);\n",
              "      fill: #174EA6;\n",
              "    }\n",
              "\n",
              "    [theme=dark] .colab-df-convert {\n",
              "      background-color: #3B4455;\n",
              "      fill: #D2E3FC;\n",
              "    }\n",
              "\n",
              "    [theme=dark] .colab-df-convert:hover {\n",
              "      background-color: #434B5C;\n",
              "      box-shadow: 0px 1px 3px 1px rgba(0, 0, 0, 0.15);\n",
              "      filter: drop-shadow(0px 1px 2px rgba(0, 0, 0, 0.3));\n",
              "      fill: #FFFFFF;\n",
              "    }\n",
              "  </style>\n",
              "\n",
              "      <script>\n",
              "        const buttonEl =\n",
              "          document.querySelector('#df-fec46540-a83f-4864-8373-b43cfc06444e button.colab-df-convert');\n",
              "        buttonEl.style.display =\n",
              "          google.colab.kernel.accessAllowed ? 'block' : 'none';\n",
              "\n",
              "        async function convertToInteractive(key) {\n",
              "          const element = document.querySelector('#df-fec46540-a83f-4864-8373-b43cfc06444e');\n",
              "          const dataTable =\n",
              "            await google.colab.kernel.invokeFunction('convertToInteractive',\n",
              "                                                     [key], {});\n",
              "          if (!dataTable) return;\n",
              "\n",
              "          const docLinkHtml = 'Like what you see? Visit the ' +\n",
              "            '<a target=\"_blank\" href=https://colab.research.google.com/notebooks/data_table.ipynb>data table notebook</a>'\n",
              "            + ' to learn more about interactive tables.';\n",
              "          element.innerHTML = '';\n",
              "          dataTable['output_type'] = 'display_data';\n",
              "          await google.colab.output.renderOutput(dataTable, element);\n",
              "          const docLink = document.createElement('div');\n",
              "          docLink.innerHTML = docLinkHtml;\n",
              "          element.appendChild(docLink);\n",
              "        }\n",
              "      </script>\n",
              "    </div>\n",
              "  </div>\n",
              "  "
            ]
          },
          "metadata": {},
          "execution_count": 12
        }
      ]
    },
    {
      "cell_type": "code",
      "metadata": {
        "colab": {
          "base_uri": "https://localhost:8080/",
          "height": 851
        },
        "id": "9qcHhGLoocCF",
        "outputId": "1b6a1e06-db6a-430e-8bfe-500341ea3b62"
      },
      "source": [
        "names = df_train.columns\n",
        "corr_mat = df_train.corr(method='pearson')\n",
        "fig, ax1 = plt.subplots(figsize=(15,15))\n",
        "ax1 = sns.heatmap(corr_mat, \n",
        "                  center=0,\n",
        "                  vmin = -1, \n",
        "                  vmax = 1, \n",
        "                  annot= True,\n",
        "                  cmap= sns.diverging_palette(20,220, n=200), \n",
        "                  square=True, \n",
        "                  yticklabels=names, \n",
        "                  xticklabels=names)\n",
        "ax1.set_xticklabels(ax1.get_xticklabels(), rotation=90)\n",
        "plt.title('Correlation heatmap')\n",
        "plt.grid(b=True)"
      ],
      "execution_count": 13,
      "outputs": [
        {
          "output_type": "display_data",
          "data": {
            "text/plain": [
              "<Figure size 1080x1080 with 2 Axes>"
            ],
            "image/png": "[encoded data removed]"
          },
          "metadata": {
            "needs_background": "light"
          }
        }
      ]
    },
    {
      "cell_type": "markdown",
      "metadata": {
        "id": "e_4eQNoLLMpG"
      },
      "source": [
        "# Support Vector Regression - Sklearn"
      ]
    },
    {
      "cell_type": "code",
      "metadata": {
        "id": "sHznLmjPRuQ7"
      },
      "source": [
        "# Preparing data for the model\n",
        "df_train = df_train.fillna(0)\n",
        "\n",
        "# logarithmic transformation\n",
        "df_train = np.log1p(df_train) #natural logarithm"
      ],
      "execution_count": 14,
      "outputs": []
    },
    {
      "cell_type": "code",
      "metadata": {
        "id": "ZUUYs0HPR7Sh"
      },
      "source": [
        "X= df_train.iloc[:, 0:-1].values\n",
        "y= df_train.iloc[:,-1].values"
      ],
      "execution_count": 15,
      "outputs": []
    },
    {
      "cell_type": "code",
      "metadata": {
        "id": "XF1SEOxMR7Si",
        "colab": {
          "base_uri": "https://localhost:8080/"
        },
        "outputId": "186e5ccb-aace-4f4f-a9de-74fd8c4309c2"
      },
      "source": [
        "X_train, X_test, y_train, y_test = train_test_split(X, y, test_size= 0.20, random_state=0)\n",
        "print(X_train.shape)\n",
        "print(X_test.shape)"
      ],
      "execution_count": 16,
      "outputs": [
        {
          "output_type": "stream",
          "name": "stdout",
          "text": [
            "(28, 18)\n",
            "(7, 18)\n"
          ]
        }
      ]
    },
    {
      "cell_type": "code",
      "source": [
        "from sklearn.svm import SVR, NuSVR, LinearSVR\n",
        "from sklearn.model_selection import GridSearchCV\n",
        "from sklearn.metrics import make_scorer, r2_score, mean_squared_error\n",
        "\n",
        "# Tuning of parameters for regression by cross-validation\n",
        "K = 5               # Number of cross valiations\n",
        "\n",
        "# Parameters for GridSearchCV\n",
        "parameters = {'kernel': ['rbf'],  #, 'linear', 'sigmoid', 'poly'\n",
        "               'epsilon': [1e-4, 1e-3, 0.01, 0.1, 0.2, 0.3, 0.4, 0.5],\n",
        "               'gamma': [1e-4, 1e-3, 0.01, 0.1, 0.2, 0.5, 0.6, 0.9],\n",
        "               'C': [1, 10, 100, 1000, 10000]}\n",
        "print(\"Tuning hyper-parameters\")\n",
        "\n",
        "scorer = make_scorer(mean_squared_error, greater_is_better=False)\n",
        "svr = GridSearchCV(SVR(), parameters, cv = K, scoring=scorer)\n",
        "grid_result= svr.fit(X_train, y_train)\n",
        "\n",
        "# Checking the score for all parameters\n",
        "print(\"Grid scores on training set:\")\n",
        "print(\"Loss function: %.3f    with best parameters %s \\n\" % (grid_result.best_score_, grid_result.best_params_))\n",
        "\n",
        "\"\"\"\n",
        "means = svr.cv_results_['mean_test_score']\n",
        "stds = svr.cv_results_['std_test_score']\n",
        "for mean, std, params in zip(means, stds, svr.cv_results_['params']):\n",
        "    print(\"%0.3f (+/-%0.03f) for %r\"% (mean, std * 2, params))\n",
        "\"\"\" "
      ],
      "metadata": {
        "colab": {
          "base_uri": "https://localhost:8080/",
          "height": 140
        },
        "id": "2TORa4muVXWI",
        "outputId": "b9c6e1f4-7213-4380-a8f8-c4340bd7e614"
      },
      "execution_count": 17,
      "outputs": [
        {
          "output_type": "stream",
          "name": "stdout",
          "text": [
            "Tuning hyper-parameters\n",
            "Grid scores on training set:\n",
            "Loss function: -0.085    with best parameters {'C': 100, 'epsilon': 0.0001, 'gamma': 0.1, 'kernel': 'rbf'} \n",
            "\n"
          ]
        },
        {
          "output_type": "execute_result",
          "data": {
            "text/plain": [
              "'\\nmeans = svr.cv_results_[\\'mean_test_score\\']\\nstds = svr.cv_results_[\\'std_test_score\\']\\nfor mean, std, params in zip(means, stds, svr.cv_results_[\\'params\\']):\\n    print(\"%0.3f (+/-%0.03f) for %r\"% (mean, std * 2, params))\\n'"
            ],
            "application/vnd.google.colaboratory.intrinsic+json": {
              "type": "string"
            }
          },
          "metadata": {},
          "execution_count": 17
        }
      ]
    },
    {
      "cell_type": "code",
      "metadata": {
        "colab": {
          "base_uri": "https://localhost:8080/"
        },
        "id": "8-pwCOF5K4vo",
        "outputId": "c82be9d1-c8f8-4497-cbb0-55ed7a4d0743"
      },
      "source": [
        "# Loss function: -0.084708 with best parameters {'C': 100, 'epsilon': 0.0001, 'gamma': 0.1, 'kernel': 'rbf'} \n",
        "# Loss function: -0.130396 with best parameters {'C': 1, 'epsilon': 0.3, 'gamma': 0.0001, 'kernel': 'linear'}\n",
        "# Loss function: -0.139181 with best parameters {'C': 1000, 'epsilon': 0.2, 'gamma': 0.001, 'kernel': 'poly'\n",
        "# Loss function: -0.113992 with best parameters {'C': 100, 'epsilon': 0.1, 'gamma': 0.001, 'kernel': 'sigmoid'}\n",
        "\n",
        "#regr = SVR(kernel = 'rbf', epsilon=0.01, C=10, gamma=0.2)   \n",
        "#regr = SVR(kernel = 'linear', epsilon=0.3, C=1, gamma=0.0001)\n",
        "regr = SVR(kernel = 'poly', epsilon=0.2, C=1000, gamma=0.001)\n",
        "#regr = SVR(kernel = 'sigmoid', epsilon=0.1, C=100, gamma=0.001)\n",
        "\n",
        "\n",
        "\n",
        "regr.fit(X_train, y_train)"
      ],
      "execution_count": 18,
      "outputs": [
        {
          "output_type": "execute_result",
          "data": {
            "text/plain": [
              "SVR(C=1000, epsilon=0.2, gamma=0.001, kernel='poly')"
            ]
          },
          "metadata": {},
          "execution_count": 18
        }
      ]
    },
    {
      "cell_type": "code",
      "source": [
        "y_pred_train = regr.predict(X_train)\n",
        "y_pred_test = regr.predict(X_test)\n",
        "print(y_pred_test,'\\n', y_pred_train)"
      ],
      "metadata": {
        "colab": {
          "base_uri": "https://localhost:8080/"
        },
        "id": "Ii4wWZ6st9TF",
        "outputId": "6c5e4a82-ad34-45c0-cc89-37462bd7aa91"
      },
      "execution_count": 19,
      "outputs": [
        {
          "output_type": "stream",
          "name": "stdout",
          "text": [
            "[0.7390043  0.20298287 0.38064225 1.92777374 1.87940663 0.48815413\n",
            " 0.44051443] \n",
            " [0.42477405 0.36170177 1.96716584 2.17278975 0.7578748  0.60758711\n",
            " 1.87765476 0.58883371 0.45449409 0.22592678 0.41613202 0.32020525\n",
            " 0.41193125 0.69163529 2.20859904 0.49484774 0.41196481 0.40043555\n",
            " 2.10224198 0.38191573 0.31910977 1.58200425 0.35691757 0.36536938\n",
            " 0.40003731 0.53801019 0.48846523 0.52600193]\n"
          ]
        }
      ]
    },
    {
      "cell_type": "code",
      "metadata": {
        "colab": {
          "base_uri": "https://localhost:8080/"
        },
        "id": "vWlJpLUrL4e1",
        "outputId": "41dbe5f5-84e4-47f1-892b-4a6ca05f202c"
      },
      "source": [
        "print('R2 score on the Train set is: \\t{:0.3f}'.format(r2_score(y_train, y_pred_train)))\n",
        "print('R2 score on the Test set is: \\t{:0.3f}'.format(r2_score(y_test, y_pred_test)))\n",
        "print('MSE score on the Train set is: \\t{:0.3f}'.format(mean_squared_error(y_train, y_pred_train)))\n",
        "print('MSE score on the Test set is: \\t{:0.3f}'.format(mean_squared_error(y_test, y_pred_test)))"
      ],
      "execution_count": 20,
      "outputs": [
        {
          "output_type": "stream",
          "name": "stdout",
          "text": [
            "R2 score on the Train set is: \t0.834\n",
            "R2 score on the Test set is: \t0.846\n",
            "MSE score on the Train set is: \t0.104\n",
            "MSE score on the Test set is: \t0.123\n"
          ]
        }
      ]
    },
    {
      "cell_type": "code",
      "metadata": {
        "id": "BmETwGE15n_W",
        "colab": {
          "base_uri": "https://localhost:8080/",
          "height": 296
        },
        "outputId": "599c51fb-3c58-4169-82e5-1c9a134e8a40"
      },
      "source": [
        "plt.plot(np.expm1(y_train), np.expm1(y_pred_train),'*r', label='train data')\n",
        "plt.plot(np.expm1(y_test), np.expm1(y_pred_test), '*g', label='test data')\n",
        "plt.xlabel('True value')\n",
        "plt.ylabel('Predicted value')\n",
        "plt.legend()"
      ],
      "execution_count": 21,
      "outputs": [
        {
          "output_type": "execute_result",
          "data": {
            "text/plain": [
              "<matplotlib.legend.Legend at 0x7f380456c590>"
            ]
          },
          "metadata": {},
          "execution_count": 21
        },
        {
          "output_type": "display_data",
          "data": {
            "text/plain": [
              "<Figure size 432x288 with 1 Axes>"
            ],
            "image/png": "[encoded data removed]"
          },
          "metadata": {
            "needs_background": "light"
          }
        }
      ]
    },
    {
      "cell_type": "markdown",
      "metadata": {
        "id": "WcECnHYlXZ94"
      },
      "source": [
        "# Predict unknown data for the whole dataset"
      ]
    },
    {
      "cell_type": "code",
      "metadata": {
        "id": "swXfNllunVH1"
      },
      "source": [
        "# fill NaN for Test set\n",
        "df_test = df_test.fillna(0)\n",
        "df_test = np.log1p(df_test)\n",
        "\n",
        "# get the data for predictions\n",
        "rows = df_test.iloc[:, 0:-1].values\n",
        "cols = df_test.iloc[:, -1].values"
      ],
      "execution_count": 22,
      "outputs": []
    },
    {
      "cell_type": "code",
      "metadata": {
        "id": "ch84Rk3RnW29"
      },
      "source": [
        "# make prediction for unknown TOC values\n",
        "\n",
        "rows_pred = np.expm1(regr.predict(rows))"
      ],
      "execution_count": 23,
      "outputs": []
    },
    {
      "cell_type": "code",
      "source": [
        "TOC_col = pd.DataFrame(rows_pred, columns=['pred_TOC'])\n",
        "TOC_col = TOC_col.round(decimals=2)\n",
        "TOC_col.to_excel('SVR_pred.xlsx')\n",
        "print(TOC_col.head(60))"
      ],
      "metadata": {
        "colab": {
          "base_uri": "https://localhost:8080/"
        },
        "id": "2aUo8ZaQMI2E",
        "outputId": "046cd72a-5399-4268-8ede-fe17256c97d9"
      },
      "execution_count": 24,
      "outputs": [
        {
          "output_type": "stream",
          "name": "stdout",
          "text": [
            "    pred_TOC\n",
            "0       0.73\n",
            "1       0.75\n",
            "2       0.73\n",
            "3       0.72\n",
            "4       0.70\n",
            "5       0.69\n",
            "6       0.67\n",
            "7       0.66\n",
            "8       0.66\n",
            "9       0.65\n",
            "10      0.65\n",
            "11      0.64\n",
            "12      0.66\n",
            "13      0.67\n",
            "14      0.67\n",
            "15      0.66\n",
            "16      0.64\n",
            "17      0.61\n",
            "18      0.57\n",
            "19      0.54\n",
            "20      0.53\n",
            "21      0.53\n",
            "22      0.55\n",
            "23      0.59\n",
            "24      0.63\n",
            "25      0.67\n",
            "26      0.69\n",
            "27      0.69\n",
            "28      0.68\n",
            "29      0.66\n",
            "30      0.63\n",
            "31      0.60\n",
            "32      0.56\n",
            "33      0.52\n",
            "34      0.48\n",
            "35      0.44\n",
            "36      0.41\n",
            "37      0.38\n",
            "38      0.37\n",
            "39      0.38\n",
            "40      0.40\n",
            "41      0.43\n",
            "42      0.47\n",
            "43      0.50\n",
            "44      0.52\n",
            "45      0.54\n",
            "46      0.57\n",
            "47      0.57\n",
            "48      0.56\n",
            "49      0.54\n",
            "50      0.52\n",
            "51      0.51\n",
            "52      0.49\n",
            "53      0.48\n",
            "54      0.47\n",
            "55      0.46\n",
            "56      0.45\n",
            "57      0.46\n",
            "58      0.46\n",
            "59      0.47\n"
          ]
        }
      ]
    }
  ]
}