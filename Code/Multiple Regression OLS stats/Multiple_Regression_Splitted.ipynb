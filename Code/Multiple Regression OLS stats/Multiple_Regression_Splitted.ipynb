{
  "cells": [
    {
      "cell_type": "code",
      "execution_count": 7,
      "metadata": {
        "id": "YyUR9Fqqsz4r"
      },
      "outputs": [],
      "source": [
        "import pandas as pd\n",
        "import sklearn as sk\n",
        "import matplotlib.pyplot as plt\n",
        "import numpy as np\n",
        "from sklearn import preprocessing\n",
        "import seaborn as sns\n",
        "\n",
        "from sklearn.neural_network import MLPRegressor\n",
        "from sklearn.datasets import make_regression\n",
        "from sklearn.model_selection import train_test_split"
      ]
    },
    {
      "cell_type": "code",
      "execution_count": 8,
      "metadata": {
        "id": "q9Ng-hoDPMrG"
      },
      "outputs": [],
      "source": [
        "xlsx = pd.ExcelFile('Otw4_mgr.xlsx')\n",
        "df_train = pd.read_excel(xlsx, 'Arkusz2')\n",
        "df_test = pd.read_excel(xlsx, 'Arkusz1')"
      ]
    },
    {
      "cell_type": "markdown",
      "metadata": {
        "id": "WM3tTAijqRIm"
      },
      "source": [
        "# Performing EDA on Train set and Test set "
      ]
    },
    {
      "cell_type": "code",
      "execution_count": 9,
      "metadata": {
        "colab": {
          "base_uri": "https://localhost:8080/",
          "height": 270
        },
        "id": "bdU5Yv-Gy-9b",
        "outputId": "9b52d47f-81e2-4430-bc74-29713db82746"
      },
      "outputs": [
        {
          "data": {
            "text/html": [
              "<div>\n",
              "<style scoped>\n",
              "    .dataframe tbody tr th:only-of-type {\n",
              "        vertical-align: middle;\n",
              "    }\n",
              "\n",
              "    .dataframe tbody tr th {\n",
              "        vertical-align: top;\n",
              "    }\n",
              "\n",
              "    .dataframe thead th {\n",
              "        text-align: right;\n",
              "    }\n",
              "</style>\n",
              "<table border=\"1\" class=\"dataframe\">\n",
              "  <thead>\n",
              "    <tr style=\"text-align: right;\">\n",
              "      <th></th>\n",
              "      <th>Vsand</th>\n",
              "      <th>Vlime</th>\n",
              "      <th>Vpiryt</th>\n",
              "      <th>Vkerogen</th>\n",
              "      <th>VCL</th>\n",
              "      <th>PHI</th>\n",
              "      <th>CAL</th>\n",
              "      <th>DT</th>\n",
              "      <th>LLD</th>\n",
              "      <th>LL3</th>\n",
              "      <th>GG_Core</th>\n",
              "      <th>GR</th>\n",
              "      <th>GRS_Core</th>\n",
              "      <th>NPHI_Core</th>\n",
              "      <th>POTA</th>\n",
              "      <th>THOR</th>\n",
              "      <th>URAN</th>\n",
              "      <th>RHOB</th>\n",
              "      <th>TOC</th>\n",
              "    </tr>\n",
              "  </thead>\n",
              "  <tbody>\n",
              "    <tr>\n",
              "      <th>0</th>\n",
              "      <td>0.1515</td>\n",
              "      <td>0.0497</td>\n",
              "      <td>0.0006</td>\n",
              "      <td>0.0053</td>\n",
              "      <td>0.7863</td>\n",
              "      <td>0.0066</td>\n",
              "      <td>216.7687</td>\n",
              "      <td>74.6406</td>\n",
              "      <td>7.4101</td>\n",
              "      <td>7.6620</td>\n",
              "      <td>165.1193</td>\n",
              "      <td>158.5410</td>\n",
              "      <td>135.5706</td>\n",
              "      <td>0.259948</td>\n",
              "      <td>4.1251</td>\n",
              "      <td>11.2350</td>\n",
              "      <td>2.8859</td>\n",
              "      <td>2.6145</td>\n",
              "      <td>1.36</td>\n",
              "    </tr>\n",
              "    <tr>\n",
              "      <th>1</th>\n",
              "      <td>0.2049</td>\n",
              "      <td>0.0003</td>\n",
              "      <td>0.0008</td>\n",
              "      <td>0.0047</td>\n",
              "      <td>0.7817</td>\n",
              "      <td>0.0076</td>\n",
              "      <td>217.3275</td>\n",
              "      <td>79.0469</td>\n",
              "      <td>7.1200</td>\n",
              "      <td>7.0996</td>\n",
              "      <td>165.1093</td>\n",
              "      <td>160.1189</td>\n",
              "      <td>140.0381</td>\n",
              "      <td>0.251399</td>\n",
              "      <td>4.6601</td>\n",
              "      <td>12.1027</td>\n",
              "      <td>2.6390</td>\n",
              "      <td>2.6029</td>\n",
              "      <td>0.10</td>\n",
              "    </tr>\n",
              "    <tr>\n",
              "      <th>2</th>\n",
              "      <td>0.2205</td>\n",
              "      <td>0.0002</td>\n",
              "      <td>0.0007</td>\n",
              "      <td>0.0003</td>\n",
              "      <td>0.7713</td>\n",
              "      <td>0.0070</td>\n",
              "      <td>217.1293</td>\n",
              "      <td>78.3281</td>\n",
              "      <td>7.0894</td>\n",
              "      <td>6.8675</td>\n",
              "      <td>158.6258</td>\n",
              "      <td>152.0281</td>\n",
              "      <td>138.6958</td>\n",
              "      <td>0.244247</td>\n",
              "      <td>4.8669</td>\n",
              "      <td>11.2013</td>\n",
              "      <td>2.1004</td>\n",
              "      <td>2.6161</td>\n",
              "      <td>0.30</td>\n",
              "    </tr>\n",
              "    <tr>\n",
              "      <th>3</th>\n",
              "      <td>0.0002</td>\n",
              "      <td>0.1756</td>\n",
              "      <td>0.0006</td>\n",
              "      <td>0.0054</td>\n",
              "      <td>0.8122</td>\n",
              "      <td>0.0060</td>\n",
              "      <td>217.6831</td>\n",
              "      <td>78.5469</td>\n",
              "      <td>6.8309</td>\n",
              "      <td>6.7372</td>\n",
              "      <td>166.9451</td>\n",
              "      <td>152.2988</td>\n",
              "      <td>132.8525</td>\n",
              "      <td>0.274207</td>\n",
              "      <td>4.3596</td>\n",
              "      <td>10.3574</td>\n",
              "      <td>3.3759</td>\n",
              "      <td>2.6362</td>\n",
              "      <td>0.86</td>\n",
              "    </tr>\n",
              "    <tr>\n",
              "      <th>4</th>\n",
              "      <td>0.0580</td>\n",
              "      <td>0.1720</td>\n",
              "      <td>0.0006</td>\n",
              "      <td>0.0004</td>\n",
              "      <td>0.7572</td>\n",
              "      <td>0.0118</td>\n",
              "      <td>218.0057</td>\n",
              "      <td>78.1250</td>\n",
              "      <td>6.8198</td>\n",
              "      <td>6.6446</td>\n",
              "      <td>146.1019</td>\n",
              "      <td>147.7815</td>\n",
              "      <td>122.3833</td>\n",
              "      <td>0.259454</td>\n",
              "      <td>3.9793</td>\n",
              "      <td>10.7352</td>\n",
              "      <td>2.4160</td>\n",
              "      <td>2.6219</td>\n",
              "      <td>0.22</td>\n",
              "    </tr>\n",
              "  </tbody>\n",
              "</table>\n",
              "</div>"
            ],
            "text/plain": [
              "    Vsand   Vlime  Vpiryt  Vkerogen     VCL     PHI       CAL       DT  \\\n",
              "0  0.1515  0.0497  0.0006    0.0053  0.7863  0.0066  216.7687  74.6406   \n",
              "1  0.2049  0.0003  0.0008    0.0047  0.7817  0.0076  217.3275  79.0469   \n",
              "2  0.2205  0.0002  0.0007    0.0003  0.7713  0.0070  217.1293  78.3281   \n",
              "3  0.0002  0.1756  0.0006    0.0054  0.8122  0.0060  217.6831  78.5469   \n",
              "4  0.0580  0.1720  0.0006    0.0004  0.7572  0.0118  218.0057  78.1250   \n",
              "\n",
              "      LLD     LL3   GG_Core        GR  GRS_Core  NPHI_Core    POTA     THOR  \\\n",
              "0  7.4101  7.6620  165.1193  158.5410  135.5706   0.259948  4.1251  11.2350   \n",
              "1  7.1200  7.0996  165.1093  160.1189  140.0381   0.251399  4.6601  12.1027   \n",
              "2  7.0894  6.8675  158.6258  152.0281  138.6958   0.244247  4.8669  11.2013   \n",
              "3  6.8309  6.7372  166.9451  152.2988  132.8525   0.274207  4.3596  10.3574   \n",
              "4  6.8198  6.6446  146.1019  147.7815  122.3833   0.259454  3.9793  10.7352   \n",
              "\n",
              "     URAN    RHOB   TOC  \n",
              "0  2.8859  2.6145  1.36  \n",
              "1  2.6390  2.6029  0.10  \n",
              "2  2.1004  2.6161  0.30  \n",
              "3  3.3759  2.6362  0.86  \n",
              "4  2.4160  2.6219  0.22  "
            ]
          },
          "execution_count": 9,
          "metadata": {},
          "output_type": "execute_result"
        }
      ],
      "source": [
        "df_train.head()"
      ]
    },
    {
      "cell_type": "code",
      "execution_count": 10,
      "metadata": {
        "colab": {
          "base_uri": "https://localhost:8080/",
          "height": 364
        },
        "id": "ojGngQKrfSaj",
        "outputId": "2a9de258-2da4-49bd-9193-accd0d2503e0"
      },
      "outputs": [
        {
          "data": {
            "text/html": [
              "<div>\n",
              "<style scoped>\n",
              "    .dataframe tbody tr th:only-of-type {\n",
              "        vertical-align: middle;\n",
              "    }\n",
              "\n",
              "    .dataframe tbody tr th {\n",
              "        vertical-align: top;\n",
              "    }\n",
              "\n",
              "    .dataframe thead th {\n",
              "        text-align: right;\n",
              "    }\n",
              "</style>\n",
              "<table border=\"1\" class=\"dataframe\">\n",
              "  <thead>\n",
              "    <tr style=\"text-align: right;\">\n",
              "      <th></th>\n",
              "      <th>Vsand</th>\n",
              "      <th>Vlime</th>\n",
              "      <th>Vpiryt</th>\n",
              "      <th>Vkerogen</th>\n",
              "      <th>VCL</th>\n",
              "      <th>PHI</th>\n",
              "      <th>CAL</th>\n",
              "      <th>DT</th>\n",
              "      <th>LLD</th>\n",
              "      <th>LL3</th>\n",
              "      <th>GG_Core</th>\n",
              "      <th>GR</th>\n",
              "      <th>GRS_Core</th>\n",
              "      <th>NPHI_Core</th>\n",
              "      <th>POTA</th>\n",
              "      <th>THOR</th>\n",
              "      <th>URAN</th>\n",
              "      <th>RHOB</th>\n",
              "      <th>TOC</th>\n",
              "    </tr>\n",
              "  </thead>\n",
              "  <tbody>\n",
              "    <tr>\n",
              "      <th>count</th>\n",
              "      <td>35.000000</td>\n",
              "      <td>35.000000</td>\n",
              "      <td>35.000000</td>\n",
              "      <td>35.000000</td>\n",
              "      <td>35.000000</td>\n",
              "      <td>35.000000</td>\n",
              "      <td>35.000000</td>\n",
              "      <td>34.000000</td>\n",
              "      <td>35.000000</td>\n",
              "      <td>35.000000</td>\n",
              "      <td>35.000000</td>\n",
              "      <td>35.00000</td>\n",
              "      <td>35.000000</td>\n",
              "      <td>35.000000</td>\n",
              "      <td>35.000000</td>\n",
              "      <td>35.000000</td>\n",
              "      <td>35.000000</td>\n",
              "      <td>35.000000</td>\n",
              "      <td>35.000000</td>\n",
              "    </tr>\n",
              "    <tr>\n",
              "      <th>mean</th>\n",
              "      <td>0.055960</td>\n",
              "      <td>0.089611</td>\n",
              "      <td>0.004280</td>\n",
              "      <td>0.027840</td>\n",
              "      <td>0.815231</td>\n",
              "      <td>0.007077</td>\n",
              "      <td>217.743169</td>\n",
              "      <td>83.744491</td>\n",
              "      <td>11.939871</td>\n",
              "      <td>12.351689</td>\n",
              "      <td>194.087751</td>\n",
              "      <td>181.39024</td>\n",
              "      <td>145.743326</td>\n",
              "      <td>0.293788</td>\n",
              "      <td>4.519774</td>\n",
              "      <td>11.513640</td>\n",
              "      <td>4.393631</td>\n",
              "      <td>2.585526</td>\n",
              "      <td>2.297714</td>\n",
              "    </tr>\n",
              "    <tr>\n",
              "      <th>std</th>\n",
              "      <td>0.072562</td>\n",
              "      <td>0.096960</td>\n",
              "      <td>0.006175</td>\n",
              "      <td>0.045081</td>\n",
              "      <td>0.053240</td>\n",
              "      <td>0.005668</td>\n",
              "      <td>0.736027</td>\n",
              "      <td>8.475774</td>\n",
              "      <td>10.564558</td>\n",
              "      <td>10.693909</td>\n",
              "      <td>64.384158</td>\n",
              "      <td>51.96734</td>\n",
              "      <td>22.431829</td>\n",
              "      <td>0.055278</td>\n",
              "      <td>0.278910</td>\n",
              "      <td>1.416542</td>\n",
              "      <td>3.536165</td>\n",
              "      <td>0.105450</td>\n",
              "      <td>3.290360</td>\n",
              "    </tr>\n",
              "    <tr>\n",
              "      <th>min</th>\n",
              "      <td>0.000000</td>\n",
              "      <td>0.000000</td>\n",
              "      <td>0.000000</td>\n",
              "      <td>0.000100</td>\n",
              "      <td>0.669200</td>\n",
              "      <td>0.000000</td>\n",
              "      <td>216.720400</td>\n",
              "      <td>74.640600</td>\n",
              "      <td>5.935900</td>\n",
              "      <td>5.419400</td>\n",
              "      <td>137.076700</td>\n",
              "      <td>129.46500</td>\n",
              "      <td>111.315200</td>\n",
              "      <td>0.242666</td>\n",
              "      <td>3.979300</td>\n",
              "      <td>7.654300</td>\n",
              "      <td>1.094700</td>\n",
              "      <td>2.332000</td>\n",
              "      <td>0.100000</td>\n",
              "    </tr>\n",
              "    <tr>\n",
              "      <th>25%</th>\n",
              "      <td>0.000200</td>\n",
              "      <td>0.000300</td>\n",
              "      <td>0.000400</td>\n",
              "      <td>0.000200</td>\n",
              "      <td>0.776500</td>\n",
              "      <td>0.003800</td>\n",
              "      <td>217.091250</td>\n",
              "      <td>77.781225</td>\n",
              "      <td>6.496000</td>\n",
              "      <td>6.453200</td>\n",
              "      <td>153.226650</td>\n",
              "      <td>147.84340</td>\n",
              "      <td>130.558750</td>\n",
              "      <td>0.258005</td>\n",
              "      <td>4.320650</td>\n",
              "      <td>10.706250</td>\n",
              "      <td>2.315150</td>\n",
              "      <td>2.553100</td>\n",
              "      <td>0.180000</td>\n",
              "    </tr>\n",
              "    <tr>\n",
              "      <th>50%</th>\n",
              "      <td>0.000600</td>\n",
              "      <td>0.049700</td>\n",
              "      <td>0.000700</td>\n",
              "      <td>0.004700</td>\n",
              "      <td>0.806600</td>\n",
              "      <td>0.006600</td>\n",
              "      <td>217.683100</td>\n",
              "      <td>80.453100</td>\n",
              "      <td>6.876600</td>\n",
              "      <td>6.750100</td>\n",
              "      <td>165.109300</td>\n",
              "      <td>154.99450</td>\n",
              "      <td>140.038100</td>\n",
              "      <td>0.271260</td>\n",
              "      <td>4.508400</td>\n",
              "      <td>11.890600</td>\n",
              "      <td>2.796700</td>\n",
              "      <td>2.624300</td>\n",
              "      <td>0.560000</td>\n",
              "    </tr>\n",
              "    <tr>\n",
              "      <th>75%</th>\n",
              "      <td>0.122000</td>\n",
              "      <td>0.180450</td>\n",
              "      <td>0.006100</td>\n",
              "      <td>0.020000</td>\n",
              "      <td>0.865850</td>\n",
              "      <td>0.008600</td>\n",
              "      <td>218.259650</td>\n",
              "      <td>86.839875</td>\n",
              "      <td>9.450850</td>\n",
              "      <td>11.081150</td>\n",
              "      <td>192.224900</td>\n",
              "      <td>183.42645</td>\n",
              "      <td>165.350250</td>\n",
              "      <td>0.292808</td>\n",
              "      <td>4.642250</td>\n",
              "      <td>12.524350</td>\n",
              "      <td>4.073700</td>\n",
              "      <td>2.657100</td>\n",
              "      <td>2.920000</td>\n",
              "    </tr>\n",
              "    <tr>\n",
              "      <th>max</th>\n",
              "      <td>0.220500</td>\n",
              "      <td>0.315800</td>\n",
              "      <td>0.020900</td>\n",
              "      <td>0.122700</td>\n",
              "      <td>0.900200</td>\n",
              "      <td>0.026900</td>\n",
              "      <td>219.026700</td>\n",
              "      <td>100.515600</td>\n",
              "      <td>47.636300</td>\n",
              "      <td>44.772700</td>\n",
              "      <td>330.530300</td>\n",
              "      <td>285.90200</td>\n",
              "      <td>204.642900</td>\n",
              "      <td>0.417709</td>\n",
              "      <td>5.131300</td>\n",
              "      <td>14.298600</td>\n",
              "      <td>12.357300</td>\n",
              "      <td>2.697400</td>\n",
              "      <td>10.120000</td>\n",
              "    </tr>\n",
              "  </tbody>\n",
              "</table>\n",
              "</div>"
            ],
            "text/plain": [
              "           Vsand      Vlime     Vpiryt   Vkerogen        VCL        PHI  \\\n",
              "count  35.000000  35.000000  35.000000  35.000000  35.000000  35.000000   \n",
              "mean    0.055960   0.089611   0.004280   0.027840   0.815231   0.007077   \n",
              "std     0.072562   0.096960   0.006175   0.045081   0.053240   0.005668   \n",
              "min     0.000000   0.000000   0.000000   0.000100   0.669200   0.000000   \n",
              "25%     0.000200   0.000300   0.000400   0.000200   0.776500   0.003800   \n",
              "50%     0.000600   0.049700   0.000700   0.004700   0.806600   0.006600   \n",
              "75%     0.122000   0.180450   0.006100   0.020000   0.865850   0.008600   \n",
              "max     0.220500   0.315800   0.020900   0.122700   0.900200   0.026900   \n",
              "\n",
              "              CAL          DT        LLD        LL3     GG_Core         GR  \\\n",
              "count   35.000000   34.000000  35.000000  35.000000   35.000000   35.00000   \n",
              "mean   217.743169   83.744491  11.939871  12.351689  194.087751  181.39024   \n",
              "std      0.736027    8.475774  10.564558  10.693909   64.384158   51.96734   \n",
              "min    216.720400   74.640600   5.935900   5.419400  137.076700  129.46500   \n",
              "25%    217.091250   77.781225   6.496000   6.453200  153.226650  147.84340   \n",
              "50%    217.683100   80.453100   6.876600   6.750100  165.109300  154.99450   \n",
              "75%    218.259650   86.839875   9.450850  11.081150  192.224900  183.42645   \n",
              "max    219.026700  100.515600  47.636300  44.772700  330.530300  285.90200   \n",
              "\n",
              "         GRS_Core  NPHI_Core       POTA       THOR       URAN       RHOB  \\\n",
              "count   35.000000  35.000000  35.000000  35.000000  35.000000  35.000000   \n",
              "mean   145.743326   0.293788   4.519774  11.513640   4.393631   2.585526   \n",
              "std     22.431829   0.055278   0.278910   1.416542   3.536165   0.105450   \n",
              "min    111.315200   0.242666   3.979300   7.654300   1.094700   2.332000   \n",
              "25%    130.558750   0.258005   4.320650  10.706250   2.315150   2.553100   \n",
              "50%    140.038100   0.271260   4.508400  11.890600   2.796700   2.624300   \n",
              "75%    165.350250   0.292808   4.642250  12.524350   4.073700   2.657100   \n",
              "max    204.642900   0.417709   5.131300  14.298600  12.357300   2.697400   \n",
              "\n",
              "             TOC  \n",
              "count  35.000000  \n",
              "mean    2.297714  \n",
              "std     3.290360  \n",
              "min     0.100000  \n",
              "25%     0.180000  \n",
              "50%     0.560000  \n",
              "75%     2.920000  \n",
              "max    10.120000  "
            ]
          },
          "execution_count": 10,
          "metadata": {},
          "output_type": "execute_result"
        }
      ],
      "source": [
        "df_train.describe()"
      ]
    },
    {
      "cell_type": "code",
      "execution_count": 11,
      "metadata": {
        "colab": {
          "base_uri": "https://localhost:8080/"
        },
        "id": "htKcsKrdfkbP",
        "outputId": "66cb68a8-19d0-4ce7-ce66-c3fae56a7c78"
      },
      "outputs": [
        {
          "data": {
            "text/plain": [
              "(35, 19)"
            ]
          },
          "execution_count": 11,
          "metadata": {},
          "output_type": "execute_result"
        }
      ],
      "source": [
        "df_train.shape"
      ]
    },
    {
      "cell_type": "code",
      "execution_count": 12,
      "metadata": {
        "colab": {
          "base_uri": "https://localhost:8080/",
          "height": 351
        },
        "id": "PRDrYyq3qp1M",
        "outputId": "5ce608f9-d248-4f53-ff1c-78cf5e379c53"
      },
      "outputs": [
        {
          "name": "stderr",
          "output_type": "stream",
          "text": [
            "E:\\Anaconda3\\lib\\site-packages\\seaborn\\distributions.py:2551: FutureWarning: `distplot` is a deprecated function and will be removed in a future version. Please adapt your code to use either `displot` (a figure-level function with similar flexibility) or `histplot` (an axes-level function for histograms).\n",
            "  warnings.warn(msg, FutureWarning)\n"
          ]
        },
        {
          "data": {
            "text/plain": [
              "<AxesSubplot:xlabel='TOC', ylabel='Density'>"
            ]
          },
          "execution_count": 12,
          "metadata": {},
          "output_type": "execute_result"
        },
        {
          "data": {
            "image/png": "[encoded data removed]",
            "text/plain": [
              "<Figure size 432x288 with 1 Axes>"
            ]
          },
          "metadata": {
            "needs_background": "light"
          },
          "output_type": "display_data"
        }
      ],
      "source": [
        "# Histogram of TOC\n",
        "sns.distplot(df_train['TOC'])"
      ]
    },
    {
      "cell_type": "code",
      "execution_count": 13,
      "metadata": {
        "colab": {
          "base_uri": "https://localhost:8080/",
          "height": 351
        },
        "id": "4iW4Zr8pnrQv",
        "outputId": "3eba1840-e30d-4c93-eb44-4cd7ac94cde2"
      },
      "outputs": [
        {
          "name": "stderr",
          "output_type": "stream",
          "text": [
            "E:\\Anaconda3\\lib\\site-packages\\seaborn\\distributions.py:2551: FutureWarning: `distplot` is a deprecated function and will be removed in a future version. Please adapt your code to use either `displot` (a figure-level function with similar flexibility) or `histplot` (an axes-level function for histograms).\n",
            "  warnings.warn(msg, FutureWarning)\n"
          ]
        },
        {
          "data": {
            "text/plain": [
              "<AxesSubplot:xlabel='TOC', ylabel='Density'>"
            ]
          },
          "execution_count": 13,
          "metadata": {},
          "output_type": "execute_result"
        },
        {
          "data": {
            "image/png": "[encoded data removed]",
            "text/plain": [
              "<Figure size 432x288 with 1 Axes>"
            ]
          },
          "metadata": {
            "needs_background": "light"
          },
          "output_type": "display_data"
        }
      ],
      "source": [
        "sns.distplot(np.log1p(df_train[\"TOC\"]) , color = \"r\")"
      ]
    },
    {
      "cell_type": "code",
      "execution_count": 14,
      "metadata": {
        "colab": {
          "base_uri": "https://localhost:8080/"
        },
        "id": "Ehgv6ogPnN1J",
        "outputId": "57acd126-e803-4b53-cd2b-1cb6551a4de3"
      },
      "outputs": [
        {
          "data": {
            "text/plain": [
              "Vsand        0\n",
              "Vlime        0\n",
              "Vpiryt       0\n",
              "Vkerogen     0\n",
              "VCL          0\n",
              "PHI          0\n",
              "CAL          0\n",
              "DT           1\n",
              "LLD          0\n",
              "LL3          0\n",
              "GG_Core      0\n",
              "GR           0\n",
              "GRS_Core     0\n",
              "NPHI_Core    0\n",
              "POTA         0\n",
              "THOR         0\n",
              "URAN         0\n",
              "RHOB         0\n",
              "TOC          0\n",
              "dtype: int64"
            ]
          },
          "execution_count": 14,
          "metadata": {},
          "output_type": "execute_result"
        }
      ],
      "source": [
        "df_train.isnull().sum()"
      ]
    },
    {
      "cell_type": "code",
      "execution_count": 15,
      "metadata": {
        "colab": {
          "base_uri": "https://localhost:8080/",
          "height": 645
        },
        "id": "E7y_kTlBnTPp",
        "outputId": "96d35b83-18bb-4bd8-b990-993e4f43affc"
      },
      "outputs": [
        {
          "data": {
            "text/html": [
              "<div>\n",
              "<style scoped>\n",
              "    .dataframe tbody tr th:only-of-type {\n",
              "        vertical-align: middle;\n",
              "    }\n",
              "\n",
              "    .dataframe tbody tr th {\n",
              "        vertical-align: top;\n",
              "    }\n",
              "\n",
              "    .dataframe thead th {\n",
              "        text-align: right;\n",
              "    }\n",
              "</style>\n",
              "<table border=\"1\" class=\"dataframe\">\n",
              "  <thead>\n",
              "    <tr style=\"text-align: right;\">\n",
              "      <th></th>\n",
              "      <th>Total</th>\n",
              "      <th>Percent</th>\n",
              "    </tr>\n",
              "  </thead>\n",
              "  <tbody>\n",
              "    <tr>\n",
              "      <th>DT</th>\n",
              "      <td>1</td>\n",
              "      <td>0.028571</td>\n",
              "    </tr>\n",
              "    <tr>\n",
              "      <th>TOC</th>\n",
              "      <td>0</td>\n",
              "      <td>0.000000</td>\n",
              "    </tr>\n",
              "    <tr>\n",
              "      <th>LLD</th>\n",
              "      <td>0</td>\n",
              "      <td>0.000000</td>\n",
              "    </tr>\n",
              "    <tr>\n",
              "      <th>Vlime</th>\n",
              "      <td>0</td>\n",
              "      <td>0.000000</td>\n",
              "    </tr>\n",
              "    <tr>\n",
              "      <th>Vpiryt</th>\n",
              "      <td>0</td>\n",
              "      <td>0.000000</td>\n",
              "    </tr>\n",
              "    <tr>\n",
              "      <th>Vkerogen</th>\n",
              "      <td>0</td>\n",
              "      <td>0.000000</td>\n",
              "    </tr>\n",
              "    <tr>\n",
              "      <th>VCL</th>\n",
              "      <td>0</td>\n",
              "      <td>0.000000</td>\n",
              "    </tr>\n",
              "    <tr>\n",
              "      <th>PHI</th>\n",
              "      <td>0</td>\n",
              "      <td>0.000000</td>\n",
              "    </tr>\n",
              "    <tr>\n",
              "      <th>CAL</th>\n",
              "      <td>0</td>\n",
              "      <td>0.000000</td>\n",
              "    </tr>\n",
              "    <tr>\n",
              "      <th>LL3</th>\n",
              "      <td>0</td>\n",
              "      <td>0.000000</td>\n",
              "    </tr>\n",
              "    <tr>\n",
              "      <th>RHOB</th>\n",
              "      <td>0</td>\n",
              "      <td>0.000000</td>\n",
              "    </tr>\n",
              "    <tr>\n",
              "      <th>GG_Core</th>\n",
              "      <td>0</td>\n",
              "      <td>0.000000</td>\n",
              "    </tr>\n",
              "    <tr>\n",
              "      <th>GR</th>\n",
              "      <td>0</td>\n",
              "      <td>0.000000</td>\n",
              "    </tr>\n",
              "    <tr>\n",
              "      <th>GRS_Core</th>\n",
              "      <td>0</td>\n",
              "      <td>0.000000</td>\n",
              "    </tr>\n",
              "    <tr>\n",
              "      <th>NPHI_Core</th>\n",
              "      <td>0</td>\n",
              "      <td>0.000000</td>\n",
              "    </tr>\n",
              "    <tr>\n",
              "      <th>POTA</th>\n",
              "      <td>0</td>\n",
              "      <td>0.000000</td>\n",
              "    </tr>\n",
              "    <tr>\n",
              "      <th>THOR</th>\n",
              "      <td>0</td>\n",
              "      <td>0.000000</td>\n",
              "    </tr>\n",
              "    <tr>\n",
              "      <th>URAN</th>\n",
              "      <td>0</td>\n",
              "      <td>0.000000</td>\n",
              "    </tr>\n",
              "    <tr>\n",
              "      <th>Vsand</th>\n",
              "      <td>0</td>\n",
              "      <td>0.000000</td>\n",
              "    </tr>\n",
              "  </tbody>\n",
              "</table>\n",
              "</div>"
            ],
            "text/plain": [
              "           Total   Percent\n",
              "DT             1  0.028571\n",
              "TOC            0  0.000000\n",
              "LLD            0  0.000000\n",
              "Vlime          0  0.000000\n",
              "Vpiryt         0  0.000000\n",
              "Vkerogen       0  0.000000\n",
              "VCL            0  0.000000\n",
              "PHI            0  0.000000\n",
              "CAL            0  0.000000\n",
              "LL3            0  0.000000\n",
              "RHOB           0  0.000000\n",
              "GG_Core        0  0.000000\n",
              "GR             0  0.000000\n",
              "GRS_Core       0  0.000000\n",
              "NPHI_Core      0  0.000000\n",
              "POTA           0  0.000000\n",
              "THOR           0  0.000000\n",
              "URAN           0  0.000000\n",
              "Vsand          0  0.000000"
            ]
          },
          "execution_count": 15,
          "metadata": {},
          "output_type": "execute_result"
        }
      ],
      "source": [
        "#missing data Train set\n",
        "total_train = df_train.isnull().sum().sort_values(ascending=False)\n",
        "percent_train = (df_train.isnull().sum()/df_train.isnull().count()).sort_values(ascending=False)\n",
        "missing_data_train = pd.concat([total_train, percent_train], axis=1, keys=['Total', 'Percent'])\n",
        "missing_data_train.head(20)"
      ]
    },
    {
      "cell_type": "code",
      "execution_count": 16,
      "metadata": {
        "colab": {
          "base_uri": "https://localhost:8080/",
          "height": 364
        },
        "id": "EPsUL4v5kDaK",
        "outputId": "92da51c0-b72d-4759-b01f-efae4e260bd4"
      },
      "outputs": [
        {
          "data": {
            "text/html": [
              "<div>\n",
              "<style scoped>\n",
              "    .dataframe tbody tr th:only-of-type {\n",
              "        vertical-align: middle;\n",
              "    }\n",
              "\n",
              "    .dataframe tbody tr th {\n",
              "        vertical-align: top;\n",
              "    }\n",
              "\n",
              "    .dataframe thead th {\n",
              "        text-align: right;\n",
              "    }\n",
              "</style>\n",
              "<table border=\"1\" class=\"dataframe\">\n",
              "  <thead>\n",
              "    <tr style=\"text-align: right;\">\n",
              "      <th></th>\n",
              "      <th>Vsand</th>\n",
              "      <th>Vlime</th>\n",
              "      <th>Vpiryt</th>\n",
              "      <th>Vkerogen</th>\n",
              "      <th>VCL</th>\n",
              "      <th>PHI</th>\n",
              "      <th>CAL</th>\n",
              "      <th>DT</th>\n",
              "      <th>LLD</th>\n",
              "      <th>LL3</th>\n",
              "      <th>GG_Core</th>\n",
              "      <th>GR</th>\n",
              "      <th>GRS_Core</th>\n",
              "      <th>NPHI_Core</th>\n",
              "      <th>POTA</th>\n",
              "      <th>THOR</th>\n",
              "      <th>URAN</th>\n",
              "      <th>RHOB</th>\n",
              "      <th>TOC</th>\n",
              "    </tr>\n",
              "  </thead>\n",
              "  <tbody>\n",
              "    <tr>\n",
              "      <th>count</th>\n",
              "      <td>296.000000</td>\n",
              "      <td>296.000000</td>\n",
              "      <td>296.000000</td>\n",
              "      <td>296.000000</td>\n",
              "      <td>296.000000</td>\n",
              "      <td>296.000000</td>\n",
              "      <td>296.000000</td>\n",
              "      <td>286.000000</td>\n",
              "      <td>296.000000</td>\n",
              "      <td>296.000000</td>\n",
              "      <td>296.000000</td>\n",
              "      <td>296.000000</td>\n",
              "      <td>296.000000</td>\n",
              "      <td>296.000000</td>\n",
              "      <td>296.000000</td>\n",
              "      <td>296.000000</td>\n",
              "      <td>296.000000</td>\n",
              "      <td>296.000000</td>\n",
              "      <td>35.000000</td>\n",
              "    </tr>\n",
              "    <tr>\n",
              "      <th>mean</th>\n",
              "      <td>0.055261</td>\n",
              "      <td>0.110405</td>\n",
              "      <td>0.005065</td>\n",
              "      <td>0.016872</td>\n",
              "      <td>0.805848</td>\n",
              "      <td>0.006549</td>\n",
              "      <td>217.813744</td>\n",
              "      <td>81.863855</td>\n",
              "      <td>9.676185</td>\n",
              "      <td>10.062527</td>\n",
              "      <td>178.448302</td>\n",
              "      <td>169.119733</td>\n",
              "      <td>141.061207</td>\n",
              "      <td>0.281699</td>\n",
              "      <td>4.556348</td>\n",
              "      <td>11.427761</td>\n",
              "      <td>3.547804</td>\n",
              "      <td>2.610569</td>\n",
              "      <td>2.297714</td>\n",
              "    </tr>\n",
              "    <tr>\n",
              "      <th>std</th>\n",
              "      <td>0.071954</td>\n",
              "      <td>0.115123</td>\n",
              "      <td>0.007981</td>\n",
              "      <td>0.033469</td>\n",
              "      <td>0.076689</td>\n",
              "      <td>0.005418</td>\n",
              "      <td>0.809446</td>\n",
              "      <td>6.944101</td>\n",
              "      <td>8.386990</td>\n",
              "      <td>8.362479</td>\n",
              "      <td>50.760124</td>\n",
              "      <td>41.044119</td>\n",
              "      <td>20.936882</td>\n",
              "      <td>0.045912</td>\n",
              "      <td>0.346125</td>\n",
              "      <td>1.518463</td>\n",
              "      <td>2.718195</td>\n",
              "      <td>0.084999</td>\n",
              "      <td>3.290360</td>\n",
              "    </tr>\n",
              "    <tr>\n",
              "      <th>min</th>\n",
              "      <td>0.000000</td>\n",
              "      <td>0.000000</td>\n",
              "      <td>0.000000</td>\n",
              "      <td>0.000000</td>\n",
              "      <td>0.351000</td>\n",
              "      <td>0.000000</td>\n",
              "      <td>216.590900</td>\n",
              "      <td>69.609400</td>\n",
              "      <td>5.843000</td>\n",
              "      <td>5.230400</td>\n",
              "      <td>68.968300</td>\n",
              "      <td>100.021600</td>\n",
              "      <td>59.950400</td>\n",
              "      <td>0.149508</td>\n",
              "      <td>3.326500</td>\n",
              "      <td>6.624500</td>\n",
              "      <td>0.868600</td>\n",
              "      <td>2.324900</td>\n",
              "      <td>0.100000</td>\n",
              "    </tr>\n",
              "    <tr>\n",
              "      <th>25%</th>\n",
              "      <td>0.000200</td>\n",
              "      <td>0.000300</td>\n",
              "      <td>0.000500</td>\n",
              "      <td>0.000200</td>\n",
              "      <td>0.775950</td>\n",
              "      <td>0.002800</td>\n",
              "      <td>217.040500</td>\n",
              "      <td>77.167925</td>\n",
              "      <td>6.413125</td>\n",
              "      <td>6.354025</td>\n",
              "      <td>150.332150</td>\n",
              "      <td>144.864500</td>\n",
              "      <td>126.483275</td>\n",
              "      <td>0.258903</td>\n",
              "      <td>4.339625</td>\n",
              "      <td>10.347900</td>\n",
              "      <td>2.182725</td>\n",
              "      <td>2.590725</td>\n",
              "      <td>0.180000</td>\n",
              "    </tr>\n",
              "    <tr>\n",
              "      <th>50%</th>\n",
              "      <td>0.000700</td>\n",
              "      <td>0.090200</td>\n",
              "      <td>0.000800</td>\n",
              "      <td>0.001950</td>\n",
              "      <td>0.805400</td>\n",
              "      <td>0.005200</td>\n",
              "      <td>217.973900</td>\n",
              "      <td>79.882800</td>\n",
              "      <td>6.729850</td>\n",
              "      <td>6.662950</td>\n",
              "      <td>162.883000</td>\n",
              "      <td>154.990600</td>\n",
              "      <td>139.045950</td>\n",
              "      <td>0.269803</td>\n",
              "      <td>4.526450</td>\n",
              "      <td>11.590300</td>\n",
              "      <td>2.693550</td>\n",
              "      <td>2.636250</td>\n",
              "      <td>0.560000</td>\n",
              "    </tr>\n",
              "    <tr>\n",
              "      <th>75%</th>\n",
              "      <td>0.117775</td>\n",
              "      <td>0.196375</td>\n",
              "      <td>0.006925</td>\n",
              "      <td>0.011175</td>\n",
              "      <td>0.859500</td>\n",
              "      <td>0.009050</td>\n",
              "      <td>218.443150</td>\n",
              "      <td>83.289050</td>\n",
              "      <td>7.695750</td>\n",
              "      <td>8.683100</td>\n",
              "      <td>182.321250</td>\n",
              "      <td>169.928900</td>\n",
              "      <td>150.643450</td>\n",
              "      <td>0.286541</td>\n",
              "      <td>4.757775</td>\n",
              "      <td>12.508900</td>\n",
              "      <td>3.469650</td>\n",
              "      <td>2.663425</td>\n",
              "      <td>2.920000</td>\n",
              "    </tr>\n",
              "    <tr>\n",
              "      <th>max</th>\n",
              "      <td>0.233100</td>\n",
              "      <td>0.629600</td>\n",
              "      <td>0.043900</td>\n",
              "      <td>0.128800</td>\n",
              "      <td>0.952400</td>\n",
              "      <td>0.027100</td>\n",
              "      <td>221.043500</td>\n",
              "      <td>101.750000</td>\n",
              "      <td>50.231700</td>\n",
              "      <td>46.533300</td>\n",
              "      <td>336.001700</td>\n",
              "      <td>287.704300</td>\n",
              "      <td>205.955800</td>\n",
              "      <td>0.424293</td>\n",
              "      <td>5.295700</td>\n",
              "      <td>15.311200</td>\n",
              "      <td>12.357300</td>\n",
              "      <td>2.728600</td>\n",
              "      <td>10.120000</td>\n",
              "    </tr>\n",
              "  </tbody>\n",
              "</table>\n",
              "</div>"
            ],
            "text/plain": [
              "            Vsand       Vlime      Vpiryt    Vkerogen         VCL         PHI  \\\n",
              "count  296.000000  296.000000  296.000000  296.000000  296.000000  296.000000   \n",
              "mean     0.055261    0.110405    0.005065    0.016872    0.805848    0.006549   \n",
              "std      0.071954    0.115123    0.007981    0.033469    0.076689    0.005418   \n",
              "min      0.000000    0.000000    0.000000    0.000000    0.351000    0.000000   \n",
              "25%      0.000200    0.000300    0.000500    0.000200    0.775950    0.002800   \n",
              "50%      0.000700    0.090200    0.000800    0.001950    0.805400    0.005200   \n",
              "75%      0.117775    0.196375    0.006925    0.011175    0.859500    0.009050   \n",
              "max      0.233100    0.629600    0.043900    0.128800    0.952400    0.027100   \n",
              "\n",
              "              CAL          DT         LLD         LL3     GG_Core          GR  \\\n",
              "count  296.000000  286.000000  296.000000  296.000000  296.000000  296.000000   \n",
              "mean   217.813744   81.863855    9.676185   10.062527  178.448302  169.119733   \n",
              "std      0.809446    6.944101    8.386990    8.362479   50.760124   41.044119   \n",
              "min    216.590900   69.609400    5.843000    5.230400   68.968300  100.021600   \n",
              "25%    217.040500   77.167925    6.413125    6.354025  150.332150  144.864500   \n",
              "50%    217.973900   79.882800    6.729850    6.662950  162.883000  154.990600   \n",
              "75%    218.443150   83.289050    7.695750    8.683100  182.321250  169.928900   \n",
              "max    221.043500  101.750000   50.231700   46.533300  336.001700  287.704300   \n",
              "\n",
              "         GRS_Core   NPHI_Core        POTA        THOR        URAN        RHOB  \\\n",
              "count  296.000000  296.000000  296.000000  296.000000  296.000000  296.000000   \n",
              "mean   141.061207    0.281699    4.556348   11.427761    3.547804    2.610569   \n",
              "std     20.936882    0.045912    0.346125    1.518463    2.718195    0.084999   \n",
              "min     59.950400    0.149508    3.326500    6.624500    0.868600    2.324900   \n",
              "25%    126.483275    0.258903    4.339625   10.347900    2.182725    2.590725   \n",
              "50%    139.045950    0.269803    4.526450   11.590300    2.693550    2.636250   \n",
              "75%    150.643450    0.286541    4.757775   12.508900    3.469650    2.663425   \n",
              "max    205.955800    0.424293    5.295700   15.311200   12.357300    2.728600   \n",
              "\n",
              "             TOC  \n",
              "count  35.000000  \n",
              "mean    2.297714  \n",
              "std     3.290360  \n",
              "min     0.100000  \n",
              "25%     0.180000  \n",
              "50%     0.560000  \n",
              "75%     2.920000  \n",
              "max    10.120000  "
            ]
          },
          "execution_count": 16,
          "metadata": {},
          "output_type": "execute_result"
        }
      ],
      "source": [
        "df_test.describe()"
      ]
    },
    {
      "cell_type": "code",
      "execution_count": 17,
      "metadata": {
        "colab": {
          "base_uri": "https://localhost:8080/"
        },
        "id": "IPZ1BmJYkGzB",
        "outputId": "20d3d5df-ce84-49e6-ffa7-63d8efddac0f"
      },
      "outputs": [
        {
          "data": {
            "text/plain": [
              "(296, 19)"
            ]
          },
          "execution_count": 17,
          "metadata": {},
          "output_type": "execute_result"
        }
      ],
      "source": [
        "df_test.shape"
      ]
    },
    {
      "cell_type": "code",
      "execution_count": 18,
      "metadata": {
        "colab": {
          "base_uri": "https://localhost:8080/"
        },
        "id": "i7N7PooshGWh",
        "outputId": "9dc8d830-4855-44f8-e264-ffaab065758d"
      },
      "outputs": [
        {
          "data": {
            "text/plain": [
              "Vsand          0\n",
              "Vlime          0\n",
              "Vpiryt         0\n",
              "Vkerogen       0\n",
              "VCL            0\n",
              "PHI            0\n",
              "CAL            0\n",
              "DT            10\n",
              "LLD            0\n",
              "LL3            0\n",
              "GG_Core        0\n",
              "GR             0\n",
              "GRS_Core       0\n",
              "NPHI_Core      0\n",
              "POTA           0\n",
              "THOR           0\n",
              "URAN           0\n",
              "RHOB           0\n",
              "TOC          261\n",
              "dtype: int64"
            ]
          },
          "execution_count": 18,
          "metadata": {},
          "output_type": "execute_result"
        }
      ],
      "source": [
        "df_test.isnull().sum()"
      ]
    },
    {
      "cell_type": "code",
      "execution_count": 19,
      "metadata": {
        "colab": {
          "base_uri": "https://localhost:8080/",
          "height": 645
        },
        "id": "-H9iijGDnDFC",
        "outputId": "509d6000-f21b-4916-b7f0-b09105cc8b78"
      },
      "outputs": [
        {
          "data": {
            "text/html": [
              "<div>\n",
              "<style scoped>\n",
              "    .dataframe tbody tr th:only-of-type {\n",
              "        vertical-align: middle;\n",
              "    }\n",
              "\n",
              "    .dataframe tbody tr th {\n",
              "        vertical-align: top;\n",
              "    }\n",
              "\n",
              "    .dataframe thead th {\n",
              "        text-align: right;\n",
              "    }\n",
              "</style>\n",
              "<table border=\"1\" class=\"dataframe\">\n",
              "  <thead>\n",
              "    <tr style=\"text-align: right;\">\n",
              "      <th></th>\n",
              "      <th>Total</th>\n",
              "      <th>Percent</th>\n",
              "    </tr>\n",
              "  </thead>\n",
              "  <tbody>\n",
              "    <tr>\n",
              "      <th>TOC</th>\n",
              "      <td>261</td>\n",
              "      <td>0.881757</td>\n",
              "    </tr>\n",
              "    <tr>\n",
              "      <th>DT</th>\n",
              "      <td>10</td>\n",
              "      <td>0.033784</td>\n",
              "    </tr>\n",
              "    <tr>\n",
              "      <th>LLD</th>\n",
              "      <td>0</td>\n",
              "      <td>0.000000</td>\n",
              "    </tr>\n",
              "    <tr>\n",
              "      <th>Vlime</th>\n",
              "      <td>0</td>\n",
              "      <td>0.000000</td>\n",
              "    </tr>\n",
              "    <tr>\n",
              "      <th>Vpiryt</th>\n",
              "      <td>0</td>\n",
              "      <td>0.000000</td>\n",
              "    </tr>\n",
              "    <tr>\n",
              "      <th>Vkerogen</th>\n",
              "      <td>0</td>\n",
              "      <td>0.000000</td>\n",
              "    </tr>\n",
              "    <tr>\n",
              "      <th>VCL</th>\n",
              "      <td>0</td>\n",
              "      <td>0.000000</td>\n",
              "    </tr>\n",
              "    <tr>\n",
              "      <th>PHI</th>\n",
              "      <td>0</td>\n",
              "      <td>0.000000</td>\n",
              "    </tr>\n",
              "    <tr>\n",
              "      <th>CAL</th>\n",
              "      <td>0</td>\n",
              "      <td>0.000000</td>\n",
              "    </tr>\n",
              "    <tr>\n",
              "      <th>LL3</th>\n",
              "      <td>0</td>\n",
              "      <td>0.000000</td>\n",
              "    </tr>\n",
              "    <tr>\n",
              "      <th>RHOB</th>\n",
              "      <td>0</td>\n",
              "      <td>0.000000</td>\n",
              "    </tr>\n",
              "    <tr>\n",
              "      <th>GG_Core</th>\n",
              "      <td>0</td>\n",
              "      <td>0.000000</td>\n",
              "    </tr>\n",
              "    <tr>\n",
              "      <th>GR</th>\n",
              "      <td>0</td>\n",
              "      <td>0.000000</td>\n",
              "    </tr>\n",
              "    <tr>\n",
              "      <th>GRS_Core</th>\n",
              "      <td>0</td>\n",
              "      <td>0.000000</td>\n",
              "    </tr>\n",
              "    <tr>\n",
              "      <th>NPHI_Core</th>\n",
              "      <td>0</td>\n",
              "      <td>0.000000</td>\n",
              "    </tr>\n",
              "    <tr>\n",
              "      <th>POTA</th>\n",
              "      <td>0</td>\n",
              "      <td>0.000000</td>\n",
              "    </tr>\n",
              "    <tr>\n",
              "      <th>THOR</th>\n",
              "      <td>0</td>\n",
              "      <td>0.000000</td>\n",
              "    </tr>\n",
              "    <tr>\n",
              "      <th>URAN</th>\n",
              "      <td>0</td>\n",
              "      <td>0.000000</td>\n",
              "    </tr>\n",
              "    <tr>\n",
              "      <th>Vsand</th>\n",
              "      <td>0</td>\n",
              "      <td>0.000000</td>\n",
              "    </tr>\n",
              "  </tbody>\n",
              "</table>\n",
              "</div>"
            ],
            "text/plain": [
              "           Total   Percent\n",
              "TOC          261  0.881757\n",
              "DT            10  0.033784\n",
              "LLD            0  0.000000\n",
              "Vlime          0  0.000000\n",
              "Vpiryt         0  0.000000\n",
              "Vkerogen       0  0.000000\n",
              "VCL            0  0.000000\n",
              "PHI            0  0.000000\n",
              "CAL            0  0.000000\n",
              "LL3            0  0.000000\n",
              "RHOB           0  0.000000\n",
              "GG_Core        0  0.000000\n",
              "GR             0  0.000000\n",
              "GRS_Core       0  0.000000\n",
              "NPHI_Core      0  0.000000\n",
              "POTA           0  0.000000\n",
              "THOR           0  0.000000\n",
              "URAN           0  0.000000\n",
              "Vsand          0  0.000000"
            ]
          },
          "execution_count": 19,
          "metadata": {},
          "output_type": "execute_result"
        }
      ],
      "source": [
        "#missing data Test set\n",
        "total_test = df_test.isnull().sum().sort_values(ascending=False)\n",
        "percent_test = (df_test.isnull().sum()/df_test.isnull().count()).sort_values(ascending=False)\n",
        "missing_data_test = pd.concat([total_test, percent_test], axis=1, keys=['Total', 'Percent'])\n",
        "missing_data_test.head(20)"
      ]
    },
    {
      "cell_type": "code",
      "execution_count": 20,
      "metadata": {
        "colab": {
          "base_uri": "https://localhost:8080/",
          "height": 856
        },
        "id": "9qcHhGLoocCF",
        "outputId": "3dd033cd-7cbf-41ca-d038-9742ba94f131"
      },
      "outputs": [
        {
          "data": {
            "image/png": "[encoded data removed]",
            "text/plain": [
              "<Figure size 1080x1080 with 2 Axes>"
            ]
          },
          "metadata": {
            "needs_background": "light"
          },
          "output_type": "display_data"
        }
      ],
      "source": [
        "names = df_train.columns\n",
        "corr_mat = df_train.corr(method='pearson')\n",
        "fig, ax1 = plt.subplots(figsize=(15,15))\n",
        "ax1 = sns.heatmap(corr_mat, \n",
        "                  center=0,\n",
        "                  vmin = -1, \n",
        "                  vmax = 1, \n",
        "                  annot= True,\n",
        "                  cmap= sns.diverging_palette(20,220, n=200), \n",
        "                  square=True, \n",
        "                  yticklabels=names, \n",
        "                  xticklabels=names)\n",
        "ax1.set_xticklabels(ax1.get_xticklabels(), rotation=90)\n",
        "plt.title('Correlation heatmap')\n",
        "plt.grid(b=True)"
      ]
    },
    {
      "cell_type": "code",
      "execution_count": 21,
      "metadata": {
        "colab": {
          "base_uri": "https://localhost:8080/",
          "height": 70
        },
        "id": "v7sAhkqjoYpZ",
        "outputId": "4f7b9204-bbaf-4c1a-f7ad-081cafcdfd6e"
      },
      "outputs": [
        {
          "data": {
            "text/plain": [
              "\"\\n#Visualzing 3 features with different levels of correlation with TOC\\nfig,ax = plt.subplots(3,1,figsize=(15,15))\\nsns.lineplot(x=df_train['Vkerogen'],y= df_train.TOC,ax=ax[0],color='r') \\nsns.lineplot(x=df_train['THOR'], y=df_train.TOC,ax=ax[1],color='b')\\nsns.lineplot(x=df_train['RHOB'], y=df_train.TOC,ax=ax[2],color='g')\\n\""
            ]
          },
          "execution_count": 21,
          "metadata": {},
          "output_type": "execute_result"
        }
      ],
      "source": [
        "\"\"\"\n",
        "#Visualzing 3 features with different levels of correlation with TOC\n",
        "fig,ax = plt.subplots(3,1,figsize=(15,15))\n",
        "sns.lineplot(x=df_train['Vkerogen'],y= df_train.TOC,ax=ax[0],color='r') \n",
        "sns.lineplot(x=df_train['THOR'], y=df_train.TOC,ax=ax[1],color='b')\n",
        "sns.lineplot(x=df_train['RHOB'], y=df_train.TOC,ax=ax[2],color='g')\n",
        "\"\"\""
      ]
    },
    {
      "cell_type": "code",
      "execution_count": 22,
      "metadata": {
        "colab": {
          "base_uri": "https://localhost:8080/",
          "height": 70
        },
        "id": "WNRshrTm9Y_U",
        "outputId": "1fb948bf-8dd0-41bd-c381-3abab3ede5ce"
      },
      "outputs": [
        {
          "data": {
            "text/plain": [
              "\"# removing insignificant collumns from Training dataset and Predicting dataset\\ncol_remove = ['Vsand', 'Vlime', 'Vpiryt', 'PHI', 'CAL', 'POTA', 'THOR', 'RHOB']\\ndf_train = df_train.drop(columns= col_remove)\\ndf_test = df_test.drop(columns= col_remove)\\ndf_train.shape\""
            ]
          },
          "execution_count": 22,
          "metadata": {},
          "output_type": "execute_result"
        }
      ],
      "source": [
        "\"\"\"# removing insignificant collumns from Training dataset and Predicting dataset\n",
        "col_remove = ['Vsand', 'Vlime', 'Vpiryt', 'PHI', 'CAL', 'POTA', 'THOR', 'RHOB']\n",
        "df_train = df_train.drop(columns= col_remove)\n",
        "df_test = df_test.drop(columns= col_remove)\n",
        "df_train.shape\"\"\""
      ]
    },
    {
      "cell_type": "code",
      "execution_count": 23,
      "metadata": {
        "colab": {
          "base_uri": "https://localhost:8080/",
          "height": 53
        },
        "id": "hYtRvVDxvbML",
        "outputId": "8c3f6437-4fdb-4540-b081-6c99827493d9"
      },
      "outputs": [
        {
          "data": {
            "text/plain": [
              "\"#scatterplot\\nsns.set()\\n#cols = ['TOC', 'Vkerogen', 'VCL', 'DT', 'DT', 'LLD', 'LL3', 'GG_Core',\\n #      'GR', 'GRS_Core', 'NPHI_Core', 'URAN']\\nsns.pairplot(df_train)\\nplt.show()\""
            ]
          },
          "execution_count": 23,
          "metadata": {},
          "output_type": "execute_result"
        }
      ],
      "source": [
        "\"\"\"#scatterplot\n",
        "sns.set()\n",
        "#cols = ['TOC', 'Vkerogen', 'VCL', 'DT', 'DT', 'LLD', 'LL3', 'GG_Core',\n",
        " #      'GR', 'GRS_Core', 'NPHI_Core', 'URAN']\n",
        "sns.pairplot(df_train)\n",
        "plt.show()\"\"\""
      ]
    },
    {
      "cell_type": "markdown",
      "metadata": {
        "id": "KRC9-5CrKwrW"
      },
      "source": [
        "# Multiple Linear Regression"
      ]
    },
    {
      "cell_type": "code",
      "execution_count": 24,
      "metadata": {
        "id": "NG6nsBEErxN_"
      },
      "outputs": [],
      "source": [
        "from sklearn import linear_model\n",
        "from scipy import stats\n",
        "import statsmodels.api as sm\n",
        "from sklearn.metrics import r2_score, mean_squared_error"
      ]
    },
    {
      "cell_type": "code",
      "execution_count": 25,
      "metadata": {
        "id": "sHznLmjPRuQ7"
      },
      "outputs": [],
      "source": [
        "# Preparing data for the model\n",
        "df_train = df_train.fillna(0)\n",
        "\n",
        "# logarithmic transformation\n",
        "#df_train = np.log(df_train+1)"
      ]
    },
    {
      "cell_type": "code",
      "execution_count": 26,
      "metadata": {
        "id": "ZUUYs0HPR7Sh"
      },
      "outputs": [],
      "source": [
        "X= df_train.iloc[:, 0:-1].values\n",
        "y= df_train.iloc[:,-1].values"
      ]
    },
    {
      "cell_type": "code",
      "execution_count": 27,
      "metadata": {
        "colab": {
          "base_uri": "https://localhost:8080/"
        },
        "id": "XF1SEOxMR7Si",
        "outputId": "94e117c5-10e3-4cc6-fe8a-0070bf952208"
      },
      "outputs": [
        {
          "name": "stdout",
          "output_type": "stream",
          "text": [
            "(28, 18)\n",
            "(7, 18)\n"
          ]
        }
      ],
      "source": [
        "X_train, X_test, y_train, y_test = train_test_split(X, y, test_size= 0.20, random_state=0)\n",
        "print(X_train.shape)\n",
        "print(X_test.shape)"
      ]
    },
    {
      "cell_type": "code",
      "execution_count": 28,
      "metadata": {
        "id": "DlBhWJ4EwQdW"
      },
      "outputs": [],
      "source": [
        "# get column names \n",
        "names = df_train.columns\n",
        "# create the Scaler object\n",
        "scaler = preprocessing.MinMaxScaler() # StandardScaler      MinMaxScaler\n",
        "# fit data on the scaler object \n",
        "X_train_scaled = scaler.fit_transform(X_train)\n",
        "X_test_scaled = scaler.transform(X_test) "
      ]
    },
    {
      "cell_type": "code",
      "execution_count": 29,
      "metadata": {
        "colab": {
          "base_uri": "https://localhost:8080/"
        },
        "id": "x0E7yUwTxE45",
        "outputId": "d29cd9a7-d18a-4fba-db34-2b2d0de5ea9b"
      },
      "outputs": [
        {
          "data": {
            "text/plain": [
              "array([[ 8.20408163e-01, -3.50197302e-17,  6.17224880e-01,\n",
              "         9.57095710e-02,  5.36796537e-01,  4.46096654e-02,\n",
              "         9.58244808e-02,  8.29006642e-01,  9.69671214e-02,\n",
              "         1.08893028e-01,  2.07298816e-01,  2.44697147e-01,\n",
              "         4.60872954e-01,  5.13791527e-02,  5.62065972e-01,\n",
              "         6.74150558e-01,  1.95319020e-01,  7.98303229e-01],\n",
              "       [ 9.07029478e-04,  7.21254355e-01,  2.00956938e-01,\n",
              "         8.25082508e-04,  3.59307359e-01,  5.72490706e-01,\n",
              "         9.62580757e-01,  7.79107920e-01,  3.60382423e-03,\n",
              "         1.77215126e-02, -1.43899148e-02, -6.31326998e-02,\n",
              "         1.91319476e-01,  2.45499279e-01,  2.38541667e-01,\n",
              "         4.54316244e-01,  6.61481363e-03,  8.51122058e-01],\n",
              "       [ 2.66213152e-01,  1.44440925e-01,  9.52153110e-01,\n",
              "         2.28983499e-16,  8.72727273e-01,  1.78438662e-01,\n",
              "         6.01352816e-01,  8.17970544e-01,  5.44775295e-03,\n",
              "         2.02981707e-02,  1.32269598e-01,  1.07025482e-01,\n",
              "         4.65589815e-01,  2.54847958e-01,  8.01562500e-01,\n",
              "         7.69994683e-01,  7.59860068e-02,  9.82758621e-01],\n",
              "       [ 4.53514739e-04, -3.16756414e-04,  4.78468900e-03,\n",
              "         9.94224422e-01,  9.08225108e-01,  7.43494424e-03,\n",
              "         2.63235485e-01,  9.75439633e-01,  3.23419816e-01,\n",
              "         6.46370190e-01,  9.94476614e-01,  9.79026444e-01,\n",
              "         8.30012201e-01,  7.82760442e-01,  4.92968750e-01,\n",
              "         4.00785551e-01,  9.99263048e-01,  3.02134647e-01],\n",
              "       [ 1.36054422e-03,  6.33512829e-04,  1.43540670e-02,\n",
              "         1.01155116e+00,  8.51082251e-01,  3.94052045e-01,\n",
              "         8.81064909e-02,  9.60516577e-01,  4.16795117e-01,\n",
              "         4.09686100e-01,  1.01332848e+00,  9.95768863e-01,\n",
              "         1.24989721e+00,  1.03899735e+00,  3.70225694e-01,\n",
              "         1.13961546e+00,  7.97346971e-01,  1.59277504e-01],\n",
              "       [ 3.31972789e-01,  1.69147925e-01,  2.87081340e-02,\n",
              "         3.63036304e-02,  8.29437229e-01,  2.75092937e-01,\n",
              "         8.65672289e-01,  8.02424698e-01, -1.20527633e-03,\n",
              "         2.24911253e-02,  1.64894600e-01,  1.67398360e-01,\n",
              "         3.56690858e-01,  2.71301633e-01,  6.57899306e-01,\n",
              "         8.12874123e-01,  2.19993607e-01,  7.91735085e-01],\n",
              "       [ 5.50113379e-01,  2.35033259e-01,  2.87081340e-02,\n",
              "         6.60066007e-03,  5.56277056e-01,  1.93308550e-01,\n",
              "         6.44278715e-01,  7.73045179e-01,  1.59038852e-02,\n",
              "         2.92199129e-02,  9.79642576e-02,  1.10363636e-01,\n",
              "         2.89190995e-01,  9.67988936e-02,  1.33680556e-01,\n",
              "         9.04481759e-01,  1.40962122e-01,  8.14176245e-01]])"
            ]
          },
          "execution_count": 29,
          "metadata": {},
          "output_type": "execute_result"
        }
      ],
      "source": [
        "X_test_scaled # MinMaxScaler"
      ]
    },
    {
      "cell_type": "code",
      "execution_count": 30,
      "metadata": {
        "colab": {
          "base_uri": "https://localhost:8080/",
          "height": 817
        },
        "id": "T2293HVNv2N-",
        "outputId": "c55a092f-f358-4c1f-945b-b017ea11a1b8"
      },
      "outputs": [
        {
          "name": "stdout",
          "output_type": "stream",
          "text": [
            "                            OLS Regression Results                            \n",
            "==============================================================================\n",
            "Dep. Variable:                      y   R-squared:                       0.971\n",
            "Model:                            OLS   Adj. R-squared:                  0.921\n",
            "Method:                 Least Squares   F-statistic:                     19.40\n",
            "Date:                Sat, 05 Feb 2022   Prob (F-statistic):           1.86e-05\n",
            "Time:                        23:38:37   Log-Likelihood:                -22.414\n",
            "No. Observations:                  28   AIC:                             80.83\n",
            "Df Residuals:                      10   BIC:                             104.8\n",
            "Df Model:                          17                                         \n",
            "Covariance Type:            nonrobust                                         \n",
            "==================================================================================\n",
            "                     coef    std err          t      P>|t|      [0.025      0.975]\n",
            "----------------------------------------------------------------------------------\n",
            "Constant          13.1298      7.130      1.842      0.095      -2.756      29.016\n",
            "Vsand [%]          7.0765      5.215      1.357      0.205      -4.543      18.695\n",
            "Vlime [%]         14.1498      8.520      1.661      0.128      -4.833      33.132\n",
            "Vpiryt [%]         4.5252      2.167      2.088      0.063      -0.303       9.353\n",
            "Vkerogen [%]     -22.6560     30.115     -0.752      0.469     -89.757      44.445\n",
            "VCL [%]            4.0048      4.162      0.962      0.359      -5.269      13.278\n",
            "PHI [%]            1.4682      5.137      0.286      0.781      -9.978      12.914\n",
            "CAL [mm]           0.8160      1.891      0.431      0.675      -3.398       5.030\n",
            "DT [m/ft]         -1.8711      2.403     -0.779      0.454      -7.226       3.484\n",
            "LLD [ohmm]         1.0659      5.411      0.197      0.848     -10.992      13.123\n",
            "LL3 [ohmm]        -4.3563      3.175     -1.372      0.200     -11.430       2.718\n",
            "GG_Core [API]     99.5060     77.497      1.284      0.228     -73.168     272.180\n",
            "GR [API]           2.5140      8.195      0.307      0.765     -15.745      20.773\n",
            "GRS_Core [API]   -38.1106     25.920     -1.470      0.172     -95.864      19.643\n",
            "NPHI_Core [%]      1.1113      5.060      0.220      0.831     -10.163      12.386\n",
            "POTA [%]           1.0468      1.641      0.638      0.538      -2.609       4.702\n",
            "THOR [%]           4.5229      2.547      1.776      0.106      -1.152      10.198\n",
            "URAN [%]         -49.3806     33.805     -1.461      0.175    -124.704      25.943\n",
            "RHOB [g/cc]      -21.0819      8.936     -2.359      0.040     -40.992      -1.172\n",
            "==============================================================================\n",
            "Omnibus:                        2.514   Durbin-Watson:                   1.564\n",
            "Prob(Omnibus):                  0.284   Jarque-Bera (JB):                1.261\n",
            "Skew:                           0.082   Prob(JB):                        0.532\n",
            "Kurtosis:                       4.027   Cond. No.                     5.04e+16\n",
            "==============================================================================\n",
            "\n",
            "Notes:\n",
            "[1] Standard Errors assume that the covariance matrix of the errors is correctly specified.\n",
            "[2] The smallest eigenvalue is 4.72e-32. This might indicate that there are\n",
            "strong multicollinearity problems or that the design matrix is singular.\n"
          ]
        },
        {
          "data": {
            "text/plain": [
              "'Adj. R-squared < R-squared indicate that the model is too complex, \\nit can reduce the precision of coefficient estimates and predicted values'"
            ]
          },
          "execution_count": 30,
          "metadata": {},
          "output_type": "execute_result"
        }
      ],
      "source": [
        "X_train_scaled1 = sm.add_constant(X_train_scaled)\n",
        "X_test_scaled1 = sm.add_constant(X_test_scaled)\n",
        "\n",
        "model1 = sm.OLS(y_train, X_train_scaled1).fit()\n",
        "\n",
        "print_model1 = model1.summary(xname=['Constant','Vsand [%]',\t'Vlime [%]',\t'Vpiryt [%]',\n",
        "                                   'Vkerogen [%]',\t'VCL [%]',\t'PHI [%]',\t'CAL [mm]',\n",
        "                                   'DT [m/ft]',\t'LLD [ohmm]',\t'LL3 [ohmm]',\t'GG_Core [API]',\n",
        "                                   'GR [API]',\t'GRS_Core [API]',\t'NPHI_Core [%]',\t'POTA [%]',\n",
        "                                   'THOR [%]',\t'URAN [%]', 'RHOB [g/cc]'])\n",
        "print(print_model1)\n",
        "\n",
        "\n",
        "\"\"\"Adj. R-squared < R-squared indicate that the model is too complex, \n",
        "it can reduce the precision of coefficient estimates and predicted values\"\"\"\n",
        "\n",
        "#https://www.investopedia.com/ask/answers/012615/whats-difference-between-rsquared-and-adjusted-rsquared.asp\n",
        "#https://statisticsbyjim.com/regression/interpret-adjusted-r-squared-predicted-r-squared-regression/ "
      ]
    },
    {
      "cell_type": "code",
      "execution_count": 31,
      "metadata": {
        "colab": {
          "base_uri": "https://localhost:8080/",
          "height": 471
        },
        "id": "QoMEzk7uTi4k",
        "outputId": "624acfdc-ba47-49b3-c479-e832afdafc9b"
      },
      "outputs": [
        {
          "name": "stdout",
          "output_type": "stream",
          "text": [
            "[ 0.01070303 -0.27033801  7.51464451  7.82965401  3.54835441  1.66628611\n",
            "  6.18359756  1.22702919  0.17173581  0.09743496  0.68499354  0.34741424\n",
            "  0.67618589  1.19126274  9.66485481  0.79765503  0.21332198  0.61900896\n",
            "  6.59617574  1.65128742  0.26073992  9.62743856  0.25367422  0.22897587\n",
            "  0.65643977  0.95434924  0.39604928  0.40107121] [ 0.82970339  1.19185437 -0.17818123  7.4620491  10.88328197  0.35833118\n",
            "  1.02668588]\n",
            "R2 score on train set: \t0.971\n",
            "R2 score on test set: \t0.936\n",
            "MSE score on train set:\t0.290\n",
            "MSE score on test set: \t0.843\n"
          ]
        },
        {
          "data": {
            "text/plain": [
              "'The model is overfitted'"
            ]
          },
          "execution_count": 31,
          "metadata": {},
          "output_type": "execute_result"
        },
        {
          "data": {
            "image/png": "[encoded data removed]",
            "text/plain": [
              "<Figure size 432x288 with 1 Axes>"
            ]
          },
          "metadata": {
            "needs_background": "light"
          },
          "output_type": "display_data"
        }
      ],
      "source": [
        "y_pred_train1 = model1.predict(X_train_scaled1)\n",
        "y_pred_test1 = model1.predict(X_test_scaled1)\n",
        "\n",
        "score1 = r2_score(y_train, y_pred_train1)\n",
        "score2 = r2_score(y_test, y_pred_test1)\n",
        "mse1 = mean_squared_error(y_train, y_pred_train1)\n",
        "mse2 = mean_squared_error(y_test, y_pred_test1)\n",
        "\n",
        "print(y_pred_train1, y_pred_test1)\n",
        "print('R2 score on train set: \\t{:0.3f}'.format(score1))\n",
        "print('R2 score on test set: \\t{:0.3f}'.format(score2))\n",
        "print('MSE score on train set:\\t{:0.3f}'.format(mse1))\n",
        "print('MSE score on test set: \\t{:0.3f}'.format(mse2))\n",
        "\n",
        "#plt.plot(y_train, 'ro', label='true value')\n",
        "#plt.plot(y_pred_train1, 'b*', label='pred value')\n",
        "#plt.legend(loc='upper left')\n",
        "#print('True value: ', y[8])\n",
        "#print('Predicted value: \\t{:0.2f}'.format(model1.predict(y[8])))\n",
        "\n",
        "plt.plot(y_train, y_pred_train1, 'r*', label='train value')\n",
        "plt.plot(y_test, y_pred_test1, 'b*', label='test value')\n",
        "plt.xlabel('True TOC value ')\n",
        "plt.ylabel('Predicted TOC value')\n",
        "plt.legend()\n",
        "\n",
        "\n",
        "\"\"\"The model is overfitted\"\"\""
      ]
    },
    {
      "cell_type": "code",
      "execution_count": null,
      "metadata": {
        "id": "wW1TvG8KhmZ9"
      },
      "outputs": [],
      "source": []
    },
    {
      "cell_type": "markdown",
      "metadata": {
        "id": "WcECnHYlXZ94"
      },
      "source": [
        "# Predict unknown data for the whole dataset"
      ]
    },
    {
      "cell_type": "code",
      "execution_count": 32,
      "metadata": {
        "id": "swXfNllunVH1"
      },
      "outputs": [],
      "source": [
        "# fill NaN for Test set\n",
        "df_test = df_test.fillna(0)\n",
        "#df_test = np.log1p(df_test)\n",
        "\n",
        "# get the data for predictions\n",
        "rows = df_test.iloc[:, 0:-1].values\n",
        "\n",
        "# fit data on the scaler object\n",
        "rows = scaler.transform(rows) "
      ]
    },
    {
      "cell_type": "code",
      "execution_count": 33,
      "metadata": {
        "colab": {
          "base_uri": "https://localhost:8080/"
        },
        "id": "ch84Rk3RnW29",
        "outputId": "7aefe383-820d-4b8f-b8de-02f4bae1c107"
      },
      "outputs": [
        {
          "name": "stdout",
          "output_type": "stream",
          "text": [
            "    pred_TOC\n",
            "0       1.18\n",
            "1       1.68\n",
            "2       2.13\n",
            "3       2.76\n",
            "4       2.02\n",
            "5       0.40\n",
            "6       0.13\n",
            "7       0.38\n",
            "8       0.35\n",
            "9       0.41\n",
            "10      0.47\n",
            "11      0.80\n",
            "12      0.73\n",
            "13      0.43\n",
            "14     -0.04\n",
            "15     -0.54\n",
            "16     -0.54\n",
            "17     -0.22\n",
            "18      0.28\n",
            "19      0.41\n",
            "20      0.01\n",
            "21     -0.90\n",
            "22     -1.45\n",
            "23     -1.60\n",
            "24     -2.05\n",
            "25     -2.05\n",
            "26     -1.49\n",
            "27     -0.91\n",
            "28     -0.34\n",
            "29     -0.11\n",
            "30      0.40\n",
            "31      0.17\n",
            "32     -0.48\n",
            "33     -0.37\n",
            "34      0.01\n",
            "35      0.39\n",
            "36      0.56\n",
            "37     -0.16\n",
            "38     -0.79\n",
            "39     -0.55\n",
            "40      0.38\n",
            "41      1.03\n",
            "42      1.65\n",
            "43      2.13\n",
            "44      2.49\n",
            "45      2.14\n",
            "46      1.65\n",
            "47      1.01\n",
            "48      0.58\n",
            "49      0.56\n",
            "50      0.68\n",
            "51      0.59\n",
            "52      0.62\n",
            "53      0.52\n",
            "54      0.24\n",
            "55      0.08\n",
            "56      0.07\n",
            "57      0.13\n",
            "58      0.14\n",
            "59      0.30\n"
          ]
        }
      ],
      "source": [
        "# make prediction for unknown TOC values\n",
        "rows_add = sm.add_constant(rows)\n",
        "rows_pred = model1.predict(rows_add)\n",
        "TOC_col = pd.DataFrame(rows_pred, columns=['pred_TOC'])\n",
        "TOC_col = TOC_col.round(decimals=2)\n",
        "TOC_col.to_excel('MLP_pred.xlsx')\n",
        "print(TOC_col.head(60))"
      ]
    }
  ],
  "metadata": {
    "colab": {
      "collapsed_sections": [],
      "name": "Multiple_Linear_Regression.ipynb",
      "provenance": []
    },
    "kernelspec": {
      "display_name": "Python 3",
      "name": "python3"
    },
    "language_info": {
      "codemirror_mode": {
        "name": "ipython",
        "version": 3
      },
      "file_extension": ".py",
      "mimetype": "text/x-python",
      "name": "python",
      "nbconvert_exporter": "python",
      "pygments_lexer": "ipython3",
      "version": "3.8.5"
    }
  },
  "nbformat": 4,
  "nbformat_minor": 0
}
